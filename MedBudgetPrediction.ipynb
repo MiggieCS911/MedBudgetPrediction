{
  "nbformat": 4,
  "nbformat_minor": 0,
  "metadata": {
    "colab": {
      "provenance": [],
      "machine_shape": "hm",
      "authorship_tag": "ABX9TyPTs3rfbWJLstvGJJEGk8n4",
      "include_colab_link": true
    },
    "kernelspec": {
      "name": "python3",
      "display_name": "Python 3"
    },
    "language_info": {
      "name": "python"
    },
    "gpuClass": "standard"
  },
  "cells": [
    {
      "cell_type": "markdown",
      "metadata": {
        "id": "view-in-github",
        "colab_type": "text"
      },
      "source": [
        "<a href=\"https://colab.research.google.com/github/MiggieCS911/MedBudgetPrediction/blob/main/MedBudgetPrediction.ipynb\" target=\"_parent\"><img src=\"https://colab.research.google.com/assets/colab-badge.svg\" alt=\"Open In Colab\"/></a>"
      ]
    },
    {
      "cell_type": "code",
      "source": [
        "from google.colab import drive\n",
        "drive.mount('/content/drive')"
      ],
      "metadata": {
        "colab": {
          "base_uri": "https://localhost:8080/"
        },
        "id": "k30SosSBwIoJ",
        "outputId": "24dd9e91-968a-436e-bc43-c94001d18458"
      },
      "execution_count": null,
      "outputs": [
        {
          "output_type": "stream",
          "name": "stdout",
          "text": [
            "Drive already mounted at /content/drive; to attempt to forcibly remount, call drive.mount(\"/content/drive\", force_remount=True).\n"
          ]
        }
      ]
    },
    {
      "cell_type": "markdown",
      "source": [
        "# Import libraries"
      ],
      "metadata": {
        "id": "9IJH2REtwRNE"
      }
    },
    {
      "cell_type": "code",
      "execution_count": null,
      "metadata": {
        "id": "0DHLunhKwFC1"
      },
      "outputs": [],
      "source": [
        "import numpy as np\n",
        "import pandas as pd\n",
        "import scipy\n",
        "from scipy import optimize as optim\n",
        "from scipy.stats import linregress as Linear_regression\n",
        "import matplotlib.pyplot as plt\n",
        "import seaborn as sns\n",
        "import math\n",
        "import datetime\n",
        "import time"
      ]
    },
    {
      "cell_type": "markdown",
      "source": [
        "# Project plan"
      ],
      "metadata": {
        "id": "kMmQYHfwxEji"
      }
    },
    {
      "cell_type": "markdown",
      "source": [
        "**Predict cost of medication of next year by previous amount dispension.**<br/>\n",
        "\n",
        "**Dataset** is come form Vajira hospital by Dr. Padoemwut. We select dataset that medication was available in 2565. <br/>\n",
        "\n",
        "**Step of Analysis**\n",
        "- Optimize the best model to fit data from 2561 - 2565: linear regression, curve? of individual drug. The distance = RMSE/MSE/Absolute error\n",
        "- Predict amount fo each individual medication.\n",
        "- Cost of medication = amount * price\n",
        "- Run Montecarlo simulation: vary price of each medication: preidiction, RMSE-price"
      ],
      "metadata": {
        "id": "-1V8kW4WxJVP"
      }
    },
    {
      "cell_type": "markdown",
      "source": [
        "# Import  data"
      ],
      "metadata": {
        "id": "1g0tG5W1xAuV"
      }
    },
    {
      "cell_type": "code",
      "source": [
        "df = pd.read_excel('/content/drive/MyDrive/medication_prediction_project/data/Medbudget.xlsx')\n",
        "print(df.shape)"
      ],
      "metadata": {
        "colab": {
          "base_uri": "https://localhost:8080/"
        },
        "id": "6AVA8GElw3iz",
        "outputId": "da73eda7-a6f7-4910-88ba-f86d7e5fb346"
      },
      "execution_count": null,
      "outputs": [
        {
          "output_type": "stream",
          "name": "stdout",
          "text": [
            "(2576, 15)\n"
          ]
        }
      ]
    },
    {
      "cell_type": "code",
      "source": [
        "df.head()"
      ],
      "metadata": {
        "colab": {
          "base_uri": "https://localhost:8080/",
          "height": 409
        },
        "id": "U2thxZ5VzTna",
        "outputId": "1c275c31-74a4-460a-d425-0bc4a7d6878d"
      },
      "execution_count": null,
      "outputs": [
        {
          "output_type": "execute_result",
          "data": {
            "text/plain": [
              "   Meditem  Medtype                           Medname  Medcost  \\\n",
              "0        5       10      IRBESARTAN (APROVEL) 150 MG.     6.96   \n",
              "1        6       10  HY-DRALAZINE (APRESOLINE) 25 MG.     1.50   \n",
              "2        7       40             CISPLATIN (CA) 10 MG.   117.70   \n",
              "3        8       40             CISPLATIN (CA) 50 MG.   321.00   \n",
              "4       16       10                   ACETAR 1000 ML.    38.52   \n",
              "\n",
              "  LastEffctiveDate  Med2561  Med2562  Med2563  Med2564  Med2565    Cost2561  \\\n",
              "0       2017-05-17    94583   130216   115275    96186    13417   658297.70   \n",
              "1       2012-08-20  1202588        0    40012        0        0  1803882.00   \n",
              "2       2015-11-27      506      478      883        0        0    59556.20   \n",
              "3       2022-04-26      520      936     7977     2053     2128   166920.00   \n",
              "4       2022-09-07      499      606     3347     5939    10550    19221.48   \n",
              "\n",
              "    Cost2562   Cost2563  Cost2564   Cost2565  \n",
              "0  906303.40   802314.0  669454.6   93382.32  \n",
              "1       0.00    60018.0       0.0       0.00  \n",
              "2   56260.60   103929.1       0.0       0.00  \n",
              "3  300456.00  2560617.0  659013.0  683088.00  \n",
              "4   23343.12   128926.4  228770.3  406386.00  "
            ],
            "text/html": [
              "\n",
              "  <div id=\"df-c4bbf817-f5a8-47cf-9841-f90807c76c82\">\n",
              "    <div class=\"colab-df-container\">\n",
              "      <div>\n",
              "<style scoped>\n",
              "    .dataframe tbody tr th:only-of-type {\n",
              "        vertical-align: middle;\n",
              "    }\n",
              "\n",
              "    .dataframe tbody tr th {\n",
              "        vertical-align: top;\n",
              "    }\n",
              "\n",
              "    .dataframe thead th {\n",
              "        text-align: right;\n",
              "    }\n",
              "</style>\n",
              "<table border=\"1\" class=\"dataframe\">\n",
              "  <thead>\n",
              "    <tr style=\"text-align: right;\">\n",
              "      <th></th>\n",
              "      <th>Meditem</th>\n",
              "      <th>Medtype</th>\n",
              "      <th>Medname</th>\n",
              "      <th>Medcost</th>\n",
              "      <th>LastEffctiveDate</th>\n",
              "      <th>Med2561</th>\n",
              "      <th>Med2562</th>\n",
              "      <th>Med2563</th>\n",
              "      <th>Med2564</th>\n",
              "      <th>Med2565</th>\n",
              "      <th>Cost2561</th>\n",
              "      <th>Cost2562</th>\n",
              "      <th>Cost2563</th>\n",
              "      <th>Cost2564</th>\n",
              "      <th>Cost2565</th>\n",
              "    </tr>\n",
              "  </thead>\n",
              "  <tbody>\n",
              "    <tr>\n",
              "      <th>0</th>\n",
              "      <td>5</td>\n",
              "      <td>10</td>\n",
              "      <td>IRBESARTAN (APROVEL) 150 MG.</td>\n",
              "      <td>6.96</td>\n",
              "      <td>2017-05-17</td>\n",
              "      <td>94583</td>\n",
              "      <td>130216</td>\n",
              "      <td>115275</td>\n",
              "      <td>96186</td>\n",
              "      <td>13417</td>\n",
              "      <td>658297.70</td>\n",
              "      <td>906303.40</td>\n",
              "      <td>802314.0</td>\n",
              "      <td>669454.6</td>\n",
              "      <td>93382.32</td>\n",
              "    </tr>\n",
              "    <tr>\n",
              "      <th>1</th>\n",
              "      <td>6</td>\n",
              "      <td>10</td>\n",
              "      <td>HY-DRALAZINE (APRESOLINE) 25 MG.</td>\n",
              "      <td>1.50</td>\n",
              "      <td>2012-08-20</td>\n",
              "      <td>1202588</td>\n",
              "      <td>0</td>\n",
              "      <td>40012</td>\n",
              "      <td>0</td>\n",
              "      <td>0</td>\n",
              "      <td>1803882.00</td>\n",
              "      <td>0.00</td>\n",
              "      <td>60018.0</td>\n",
              "      <td>0.0</td>\n",
              "      <td>0.00</td>\n",
              "    </tr>\n",
              "    <tr>\n",
              "      <th>2</th>\n",
              "      <td>7</td>\n",
              "      <td>40</td>\n",
              "      <td>CISPLATIN (CA) 10 MG.</td>\n",
              "      <td>117.70</td>\n",
              "      <td>2015-11-27</td>\n",
              "      <td>506</td>\n",
              "      <td>478</td>\n",
              "      <td>883</td>\n",
              "      <td>0</td>\n",
              "      <td>0</td>\n",
              "      <td>59556.20</td>\n",
              "      <td>56260.60</td>\n",
              "      <td>103929.1</td>\n",
              "      <td>0.0</td>\n",
              "      <td>0.00</td>\n",
              "    </tr>\n",
              "    <tr>\n",
              "      <th>3</th>\n",
              "      <td>8</td>\n",
              "      <td>40</td>\n",
              "      <td>CISPLATIN (CA) 50 MG.</td>\n",
              "      <td>321.00</td>\n",
              "      <td>2022-04-26</td>\n",
              "      <td>520</td>\n",
              "      <td>936</td>\n",
              "      <td>7977</td>\n",
              "      <td>2053</td>\n",
              "      <td>2128</td>\n",
              "      <td>166920.00</td>\n",
              "      <td>300456.00</td>\n",
              "      <td>2560617.0</td>\n",
              "      <td>659013.0</td>\n",
              "      <td>683088.00</td>\n",
              "    </tr>\n",
              "    <tr>\n",
              "      <th>4</th>\n",
              "      <td>16</td>\n",
              "      <td>10</td>\n",
              "      <td>ACETAR 1000 ML.</td>\n",
              "      <td>38.52</td>\n",
              "      <td>2022-09-07</td>\n",
              "      <td>499</td>\n",
              "      <td>606</td>\n",
              "      <td>3347</td>\n",
              "      <td>5939</td>\n",
              "      <td>10550</td>\n",
              "      <td>19221.48</td>\n",
              "      <td>23343.12</td>\n",
              "      <td>128926.4</td>\n",
              "      <td>228770.3</td>\n",
              "      <td>406386.00</td>\n",
              "    </tr>\n",
              "  </tbody>\n",
              "</table>\n",
              "</div>\n",
              "      <button class=\"colab-df-convert\" onclick=\"convertToInteractive('df-c4bbf817-f5a8-47cf-9841-f90807c76c82')\"\n",
              "              title=\"Convert this dataframe to an interactive table.\"\n",
              "              style=\"display:none;\">\n",
              "        \n",
              "  <svg xmlns=\"http://www.w3.org/2000/svg\" height=\"24px\"viewBox=\"0 0 24 24\"\n",
              "       width=\"24px\">\n",
              "    <path d=\"M0 0h24v24H0V0z\" fill=\"none\"/>\n",
              "    <path d=\"M18.56 5.44l.94 2.06.94-2.06 2.06-.94-2.06-.94-.94-2.06-.94 2.06-2.06.94zm-11 1L8.5 8.5l.94-2.06 2.06-.94-2.06-.94L8.5 2.5l-.94 2.06-2.06.94zm10 10l.94 2.06.94-2.06 2.06-.94-2.06-.94-.94-2.06-.94 2.06-2.06.94z\"/><path d=\"M17.41 7.96l-1.37-1.37c-.4-.4-.92-.59-1.43-.59-.52 0-1.04.2-1.43.59L10.3 9.45l-7.72 7.72c-.78.78-.78 2.05 0 2.83L4 21.41c.39.39.9.59 1.41.59.51 0 1.02-.2 1.41-.59l7.78-7.78 2.81-2.81c.8-.78.8-2.07 0-2.86zM5.41 20L4 18.59l7.72-7.72 1.47 1.35L5.41 20z\"/>\n",
              "  </svg>\n",
              "      </button>\n",
              "      \n",
              "  <style>\n",
              "    .colab-df-container {\n",
              "      display:flex;\n",
              "      flex-wrap:wrap;\n",
              "      gap: 12px;\n",
              "    }\n",
              "\n",
              "    .colab-df-convert {\n",
              "      background-color: #E8F0FE;\n",
              "      border: none;\n",
              "      border-radius: 50%;\n",
              "      cursor: pointer;\n",
              "      display: none;\n",
              "      fill: #1967D2;\n",
              "      height: 32px;\n",
              "      padding: 0 0 0 0;\n",
              "      width: 32px;\n",
              "    }\n",
              "\n",
              "    .colab-df-convert:hover {\n",
              "      background-color: #E2EBFA;\n",
              "      box-shadow: 0px 1px 2px rgba(60, 64, 67, 0.3), 0px 1px 3px 1px rgba(60, 64, 67, 0.15);\n",
              "      fill: #174EA6;\n",
              "    }\n",
              "\n",
              "    [theme=dark] .colab-df-convert {\n",
              "      background-color: #3B4455;\n",
              "      fill: #D2E3FC;\n",
              "    }\n",
              "\n",
              "    [theme=dark] .colab-df-convert:hover {\n",
              "      background-color: #434B5C;\n",
              "      box-shadow: 0px 1px 3px 1px rgba(0, 0, 0, 0.15);\n",
              "      filter: drop-shadow(0px 1px 2px rgba(0, 0, 0, 0.3));\n",
              "      fill: #FFFFFF;\n",
              "    }\n",
              "  </style>\n",
              "\n",
              "      <script>\n",
              "        const buttonEl =\n",
              "          document.querySelector('#df-c4bbf817-f5a8-47cf-9841-f90807c76c82 button.colab-df-convert');\n",
              "        buttonEl.style.display =\n",
              "          google.colab.kernel.accessAllowed ? 'block' : 'none';\n",
              "\n",
              "        async function convertToInteractive(key) {\n",
              "          const element = document.querySelector('#df-c4bbf817-f5a8-47cf-9841-f90807c76c82');\n",
              "          const dataTable =\n",
              "            await google.colab.kernel.invokeFunction('convertToInteractive',\n",
              "                                                     [key], {});\n",
              "          if (!dataTable) return;\n",
              "\n",
              "          const docLinkHtml = 'Like what you see? Visit the ' +\n",
              "            '<a target=\"_blank\" href=https://colab.research.google.com/notebooks/data_table.ipynb>data table notebook</a>'\n",
              "            + ' to learn more about interactive tables.';\n",
              "          element.innerHTML = '';\n",
              "          dataTable['output_type'] = 'display_data';\n",
              "          await google.colab.output.renderOutput(dataTable, element);\n",
              "          const docLink = document.createElement('div');\n",
              "          docLink.innerHTML = docLinkHtml;\n",
              "          element.appendChild(docLink);\n",
              "        }\n",
              "      </script>\n",
              "    </div>\n",
              "  </div>\n",
              "  "
            ]
          },
          "metadata": {},
          "execution_count": 48
        }
      ]
    },
    {
      "cell_type": "code",
      "source": [
        "df.info()"
      ],
      "metadata": {
        "colab": {
          "base_uri": "https://localhost:8080/"
        },
        "id": "6eLFdR5EzXMV",
        "outputId": "8adc6467-4621-4965-fa90-5382f4b96395"
      },
      "execution_count": null,
      "outputs": [
        {
          "output_type": "stream",
          "name": "stdout",
          "text": [
            "<class 'pandas.core.frame.DataFrame'>\n",
            "RangeIndex: 2576 entries, 0 to 2575\n",
            "Data columns (total 15 columns):\n",
            " #   Column            Non-Null Count  Dtype         \n",
            "---  ------            --------------  -----         \n",
            " 0   Meditem           2576 non-null   int64         \n",
            " 1   Medtype           2576 non-null   int64         \n",
            " 2   Medname           2576 non-null   object        \n",
            " 3   Medcost           2570 non-null   float64       \n",
            " 4   LastEffctiveDate  2570 non-null   datetime64[ns]\n",
            " 5   Med2561           2576 non-null   int64         \n",
            " 6   Med2562           2576 non-null   int64         \n",
            " 7   Med2563           2576 non-null   int64         \n",
            " 8   Med2564           2576 non-null   int64         \n",
            " 9   Med2565           2576 non-null   int64         \n",
            " 10  Cost2561          2576 non-null   float64       \n",
            " 11  Cost2562          2576 non-null   float64       \n",
            " 12  Cost2563          2576 non-null   float64       \n",
            " 13  Cost2564          2576 non-null   float64       \n",
            " 14  Cost2565          2576 non-null   float64       \n",
            "dtypes: datetime64[ns](1), float64(6), int64(7), object(1)\n",
            "memory usage: 302.0+ KB\n"
          ]
        }
      ]
    },
    {
      "cell_type": "code",
      "source": [
        "df.columns"
      ],
      "metadata": {
        "colab": {
          "base_uri": "https://localhost:8080/"
        },
        "id": "exifyJ_802Ec",
        "outputId": "305bdca0-5df1-48e1-92e8-15f059cc8923"
      },
      "execution_count": null,
      "outputs": [
        {
          "output_type": "execute_result",
          "data": {
            "text/plain": [
              "Index(['Meditem', 'Medtype', 'Medname', 'Medcost', 'LastEffctiveDate',\n",
              "       'Med2561', 'Med2562', 'Med2563', 'Med2564', 'Med2565', 'Cost2561',\n",
              "       'Cost2562', 'Cost2563', 'Cost2564', 'Cost2565'],\n",
              "      dtype='object')"
            ]
          },
          "metadata": {},
          "execution_count": 50
        }
      ]
    },
    {
      "cell_type": "code",
      "source": [
        "df = df[['Meditem', 'Medtype', 'Medname', 'Medcost', 'LastEffctiveDate',\n",
        "       'Med2561', 'Med2562', 'Med2563', 'Med2564', 'Med2565']]"
      ],
      "metadata": {
        "id": "ncGvXh2C0wXi"
      },
      "execution_count": null,
      "outputs": []
    },
    {
      "cell_type": "code",
      "source": [
        "df.info()"
      ],
      "metadata": {
        "colab": {
          "base_uri": "https://localhost:8080/"
        },
        "id": "y2mRVm_H1nwn",
        "outputId": "aae86146-46cc-4253-92cd-4c85d8b4d36f"
      },
      "execution_count": null,
      "outputs": [
        {
          "output_type": "stream",
          "name": "stdout",
          "text": [
            "<class 'pandas.core.frame.DataFrame'>\n",
            "RangeIndex: 2576 entries, 0 to 2575\n",
            "Data columns (total 10 columns):\n",
            " #   Column            Non-Null Count  Dtype         \n",
            "---  ------            --------------  -----         \n",
            " 0   Meditem           2576 non-null   int64         \n",
            " 1   Medtype           2576 non-null   int64         \n",
            " 2   Medname           2576 non-null   object        \n",
            " 3   Medcost           2570 non-null   float64       \n",
            " 4   LastEffctiveDate  2570 non-null   datetime64[ns]\n",
            " 5   Med2561           2576 non-null   int64         \n",
            " 6   Med2562           2576 non-null   int64         \n",
            " 7   Med2563           2576 non-null   int64         \n",
            " 8   Med2564           2576 non-null   int64         \n",
            " 9   Med2565           2576 non-null   int64         \n",
            "dtypes: datetime64[ns](1), float64(1), int64(7), object(1)\n",
            "memory usage: 201.4+ KB\n"
          ]
        }
      ]
    },
    {
      "cell_type": "code",
      "source": [
        "#find primary key\n",
        "df.Meditem.nunique()"
      ],
      "metadata": {
        "colab": {
          "base_uri": "https://localhost:8080/"
        },
        "id": "50BM37S_lNXQ",
        "outputId": "2a324ef0-f55a-43ad-d95a-8c60c66bc134"
      },
      "execution_count": null,
      "outputs": [
        {
          "output_type": "execute_result",
          "data": {
            "text/plain": [
              "2576"
            ]
          },
          "metadata": {},
          "execution_count": 53
        }
      ]
    },
    {
      "cell_type": "code",
      "source": [
        "#chage Meditem to str\n",
        "df['Meditem'] = df.Meditem.apply(lambda x: str(x))"
      ],
      "metadata": {
        "id": "MxKaTiDvM_lO"
      },
      "execution_count": null,
      "outputs": []
    },
    {
      "cell_type": "code",
      "source": [
        "df.info()"
      ],
      "metadata": {
        "colab": {
          "base_uri": "https://localhost:8080/"
        },
        "id": "JekOpsp2N9RB",
        "outputId": "9bfac885-68fb-4ff6-8536-506f23dacfd8"
      },
      "execution_count": null,
      "outputs": [
        {
          "output_type": "stream",
          "name": "stdout",
          "text": [
            "<class 'pandas.core.frame.DataFrame'>\n",
            "RangeIndex: 2576 entries, 0 to 2575\n",
            "Data columns (total 10 columns):\n",
            " #   Column            Non-Null Count  Dtype         \n",
            "---  ------            --------------  -----         \n",
            " 0   Meditem           2576 non-null   object        \n",
            " 1   Medtype           2576 non-null   int64         \n",
            " 2   Medname           2576 non-null   object        \n",
            " 3   Medcost           2570 non-null   float64       \n",
            " 4   LastEffctiveDate  2570 non-null   datetime64[ns]\n",
            " 5   Med2561           2576 non-null   int64         \n",
            " 6   Med2562           2576 non-null   int64         \n",
            " 7   Med2563           2576 non-null   int64         \n",
            " 8   Med2564           2576 non-null   int64         \n",
            " 9   Med2565           2576 non-null   int64         \n",
            "dtypes: datetime64[ns](1), float64(1), int64(6), object(2)\n",
            "memory usage: 201.4+ KB\n"
          ]
        }
      ]
    },
    {
      "cell_type": "markdown",
      "source": [
        "Primary key == Meditem"
      ],
      "metadata": {
        "id": "VNDAQ8q5Odgj"
      }
    },
    {
      "cell_type": "markdown",
      "source": [
        "### check null"
      ],
      "metadata": {
        "id": "aDaMoQAqz4m7"
      }
    },
    {
      "cell_type": "code",
      "source": [
        "df.isnull().sum()"
      ],
      "metadata": {
        "colab": {
          "base_uri": "https://localhost:8080/"
        },
        "id": "5dt1bsH6zlcp",
        "outputId": "07b00337-95cb-4731-933c-c2454dc0aa1b"
      },
      "execution_count": null,
      "outputs": [
        {
          "output_type": "execute_result",
          "data": {
            "text/plain": [
              "Meditem             0\n",
              "Medtype             0\n",
              "Medname             0\n",
              "Medcost             6\n",
              "LastEffctiveDate    6\n",
              "Med2561             0\n",
              "Med2562             0\n",
              "Med2563             0\n",
              "Med2564             0\n",
              "Med2565             0\n",
              "dtype: int64"
            ]
          },
          "metadata": {},
          "execution_count": 56
        }
      ]
    },
    {
      "cell_type": "markdown",
      "source": [
        "There are 6 drugs that no Medcost"
      ],
      "metadata": {
        "id": "x3qDWPpPlm9_"
      }
    },
    {
      "cell_type": "code",
      "source": [
        "df[df['Medcost'].isnull()]"
      ],
      "metadata": {
        "colab": {
          "base_uri": "https://localhost:8080/",
          "height": 490
        },
        "id": "Rm-geS7hlmZo",
        "outputId": "a1fddc89-ba01-43c9-e3b4-27656506c17c"
      },
      "execution_count": null,
      "outputs": [
        {
          "output_type": "execute_result",
          "data": {
            "text/plain": [
              "         Meditem  Medtype                               Medname  Medcost  \\\n",
              "557         8145       70               BARIUM SULFATE 450 GM.       NaN   \n",
              "597        20162       10                FUCIDIN IV 500 MG INJ       NaN   \n",
              "1800  5010000879       10            BOOSTAGEN (???????) 0.5 mL      NaN   \n",
              "2341  5040028576       40   Gemcitabine (????? ?.ROCHE) 1000 MG      NaN   \n",
              "2343  5040028578       40  Atezolizumab (????? ?.ROCHE) 1200 MG      NaN   \n",
              "2511  5040028767       40                  Tiragolumab (?????)       NaN   \n",
              "\n",
              "     LastEffctiveDate  Med2561  Med2562  Med2563  Med2564  Med2565  \n",
              "557               NaT        0        0        0      768      433  \n",
              "597               NaT        0        0        1        2        2  \n",
              "1800              NaT      737      196        0        0        0  \n",
              "2341              NaT       22        1        0        0        0  \n",
              "2343              NaT       26       24       17       27       87  \n",
              "2511              NaT        0        0        0        0       12  "
            ],
            "text/html": [
              "\n",
              "  <div id=\"df-2cf64902-6db3-4bb3-8dfd-e98fbacfb427\">\n",
              "    <div class=\"colab-df-container\">\n",
              "      <div>\n",
              "<style scoped>\n",
              "    .dataframe tbody tr th:only-of-type {\n",
              "        vertical-align: middle;\n",
              "    }\n",
              "\n",
              "    .dataframe tbody tr th {\n",
              "        vertical-align: top;\n",
              "    }\n",
              "\n",
              "    .dataframe thead th {\n",
              "        text-align: right;\n",
              "    }\n",
              "</style>\n",
              "<table border=\"1\" class=\"dataframe\">\n",
              "  <thead>\n",
              "    <tr style=\"text-align: right;\">\n",
              "      <th></th>\n",
              "      <th>Meditem</th>\n",
              "      <th>Medtype</th>\n",
              "      <th>Medname</th>\n",
              "      <th>Medcost</th>\n",
              "      <th>LastEffctiveDate</th>\n",
              "      <th>Med2561</th>\n",
              "      <th>Med2562</th>\n",
              "      <th>Med2563</th>\n",
              "      <th>Med2564</th>\n",
              "      <th>Med2565</th>\n",
              "    </tr>\n",
              "  </thead>\n",
              "  <tbody>\n",
              "    <tr>\n",
              "      <th>557</th>\n",
              "      <td>8145</td>\n",
              "      <td>70</td>\n",
              "      <td>BARIUM SULFATE 450 GM.</td>\n",
              "      <td>NaN</td>\n",
              "      <td>NaT</td>\n",
              "      <td>0</td>\n",
              "      <td>0</td>\n",
              "      <td>0</td>\n",
              "      <td>768</td>\n",
              "      <td>433</td>\n",
              "    </tr>\n",
              "    <tr>\n",
              "      <th>597</th>\n",
              "      <td>20162</td>\n",
              "      <td>10</td>\n",
              "      <td>FUCIDIN IV 500 MG INJ</td>\n",
              "      <td>NaN</td>\n",
              "      <td>NaT</td>\n",
              "      <td>0</td>\n",
              "      <td>0</td>\n",
              "      <td>1</td>\n",
              "      <td>2</td>\n",
              "      <td>2</td>\n",
              "    </tr>\n",
              "    <tr>\n",
              "      <th>1800</th>\n",
              "      <td>5010000879</td>\n",
              "      <td>10</td>\n",
              "      <td>BOOSTAGEN (???????) 0.5 mL</td>\n",
              "      <td>NaN</td>\n",
              "      <td>NaT</td>\n",
              "      <td>737</td>\n",
              "      <td>196</td>\n",
              "      <td>0</td>\n",
              "      <td>0</td>\n",
              "      <td>0</td>\n",
              "    </tr>\n",
              "    <tr>\n",
              "      <th>2341</th>\n",
              "      <td>5040028576</td>\n",
              "      <td>40</td>\n",
              "      <td>Gemcitabine (????? ?.ROCHE) 1000 MG</td>\n",
              "      <td>NaN</td>\n",
              "      <td>NaT</td>\n",
              "      <td>22</td>\n",
              "      <td>1</td>\n",
              "      <td>0</td>\n",
              "      <td>0</td>\n",
              "      <td>0</td>\n",
              "    </tr>\n",
              "    <tr>\n",
              "      <th>2343</th>\n",
              "      <td>5040028578</td>\n",
              "      <td>40</td>\n",
              "      <td>Atezolizumab (????? ?.ROCHE) 1200 MG</td>\n",
              "      <td>NaN</td>\n",
              "      <td>NaT</td>\n",
              "      <td>26</td>\n",
              "      <td>24</td>\n",
              "      <td>17</td>\n",
              "      <td>27</td>\n",
              "      <td>87</td>\n",
              "    </tr>\n",
              "    <tr>\n",
              "      <th>2511</th>\n",
              "      <td>5040028767</td>\n",
              "      <td>40</td>\n",
              "      <td>Tiragolumab (?????)</td>\n",
              "      <td>NaN</td>\n",
              "      <td>NaT</td>\n",
              "      <td>0</td>\n",
              "      <td>0</td>\n",
              "      <td>0</td>\n",
              "      <td>0</td>\n",
              "      <td>12</td>\n",
              "    </tr>\n",
              "  </tbody>\n",
              "</table>\n",
              "</div>\n",
              "      <button class=\"colab-df-convert\" onclick=\"convertToInteractive('df-2cf64902-6db3-4bb3-8dfd-e98fbacfb427')\"\n",
              "              title=\"Convert this dataframe to an interactive table.\"\n",
              "              style=\"display:none;\">\n",
              "        \n",
              "  <svg xmlns=\"http://www.w3.org/2000/svg\" height=\"24px\"viewBox=\"0 0 24 24\"\n",
              "       width=\"24px\">\n",
              "    <path d=\"M0 0h24v24H0V0z\" fill=\"none\"/>\n",
              "    <path d=\"M18.56 5.44l.94 2.06.94-2.06 2.06-.94-2.06-.94-.94-2.06-.94 2.06-2.06.94zm-11 1L8.5 8.5l.94-2.06 2.06-.94-2.06-.94L8.5 2.5l-.94 2.06-2.06.94zm10 10l.94 2.06.94-2.06 2.06-.94-2.06-.94-.94-2.06-.94 2.06-2.06.94z\"/><path d=\"M17.41 7.96l-1.37-1.37c-.4-.4-.92-.59-1.43-.59-.52 0-1.04.2-1.43.59L10.3 9.45l-7.72 7.72c-.78.78-.78 2.05 0 2.83L4 21.41c.39.39.9.59 1.41.59.51 0 1.02-.2 1.41-.59l7.78-7.78 2.81-2.81c.8-.78.8-2.07 0-2.86zM5.41 20L4 18.59l7.72-7.72 1.47 1.35L5.41 20z\"/>\n",
              "  </svg>\n",
              "      </button>\n",
              "      \n",
              "  <style>\n",
              "    .colab-df-container {\n",
              "      display:flex;\n",
              "      flex-wrap:wrap;\n",
              "      gap: 12px;\n",
              "    }\n",
              "\n",
              "    .colab-df-convert {\n",
              "      background-color: #E8F0FE;\n",
              "      border: none;\n",
              "      border-radius: 50%;\n",
              "      cursor: pointer;\n",
              "      display: none;\n",
              "      fill: #1967D2;\n",
              "      height: 32px;\n",
              "      padding: 0 0 0 0;\n",
              "      width: 32px;\n",
              "    }\n",
              "\n",
              "    .colab-df-convert:hover {\n",
              "      background-color: #E2EBFA;\n",
              "      box-shadow: 0px 1px 2px rgba(60, 64, 67, 0.3), 0px 1px 3px 1px rgba(60, 64, 67, 0.15);\n",
              "      fill: #174EA6;\n",
              "    }\n",
              "\n",
              "    [theme=dark] .colab-df-convert {\n",
              "      background-color: #3B4455;\n",
              "      fill: #D2E3FC;\n",
              "    }\n",
              "\n",
              "    [theme=dark] .colab-df-convert:hover {\n",
              "      background-color: #434B5C;\n",
              "      box-shadow: 0px 1px 3px 1px rgba(0, 0, 0, 0.15);\n",
              "      filter: drop-shadow(0px 1px 2px rgba(0, 0, 0, 0.3));\n",
              "      fill: #FFFFFF;\n",
              "    }\n",
              "  </style>\n",
              "\n",
              "      <script>\n",
              "        const buttonEl =\n",
              "          document.querySelector('#df-2cf64902-6db3-4bb3-8dfd-e98fbacfb427 button.colab-df-convert');\n",
              "        buttonEl.style.display =\n",
              "          google.colab.kernel.accessAllowed ? 'block' : 'none';\n",
              "\n",
              "        async function convertToInteractive(key) {\n",
              "          const element = document.querySelector('#df-2cf64902-6db3-4bb3-8dfd-e98fbacfb427');\n",
              "          const dataTable =\n",
              "            await google.colab.kernel.invokeFunction('convertToInteractive',\n",
              "                                                     [key], {});\n",
              "          if (!dataTable) return;\n",
              "\n",
              "          const docLinkHtml = 'Like what you see? Visit the ' +\n",
              "            '<a target=\"_blank\" href=https://colab.research.google.com/notebooks/data_table.ipynb>data table notebook</a>'\n",
              "            + ' to learn more about interactive tables.';\n",
              "          element.innerHTML = '';\n",
              "          dataTable['output_type'] = 'display_data';\n",
              "          await google.colab.output.renderOutput(dataTable, element);\n",
              "          const docLink = document.createElement('div');\n",
              "          docLink.innerHTML = docLinkHtml;\n",
              "          element.appendChild(docLink);\n",
              "        }\n",
              "      </script>\n",
              "    </div>\n",
              "  </div>\n",
              "  "
            ]
          },
          "metadata": {},
          "execution_count": 57
        }
      ]
    },
    {
      "cell_type": "code",
      "source": [
        "# Remove 6 drugs that no price --> save in list\n",
        "removedMedication  = df[df['Medcost'].isnull()]['Meditem'].to_list()\n",
        "print(removedMedication)"
      ],
      "metadata": {
        "colab": {
          "base_uri": "https://localhost:8080/"
        },
        "id": "Cx5WEsOdmQlE",
        "outputId": "e89233f6-c895-4f84-8aa8-86bd9d29c647"
      },
      "execution_count": null,
      "outputs": [
        {
          "output_type": "stream",
          "name": "stdout",
          "text": [
            "['8145', '20162', '5010000879', '5040028576', '5040028578', '5040028767']\n"
          ]
        }
      ]
    },
    {
      "cell_type": "code",
      "source": [
        "#removed null\n",
        "df = df[~df['Medcost'].isnull()]"
      ],
      "metadata": {
        "id": "Gnrepi05mskP"
      },
      "execution_count": null,
      "outputs": []
    },
    {
      "cell_type": "code",
      "source": [
        "df.isnull().sum()"
      ],
      "metadata": {
        "colab": {
          "base_uri": "https://localhost:8080/"
        },
        "id": "06AbjXzNm37d",
        "outputId": "7b3abe16-c9af-47b0-d9ba-bec318dff85a"
      },
      "execution_count": null,
      "outputs": [
        {
          "output_type": "execute_result",
          "data": {
            "text/plain": [
              "Meditem             0\n",
              "Medtype             0\n",
              "Medname             0\n",
              "Medcost             0\n",
              "LastEffctiveDate    0\n",
              "Med2561             0\n",
              "Med2562             0\n",
              "Med2563             0\n",
              "Med2564             0\n",
              "Med2565             0\n",
              "dtype: int64"
            ]
          },
          "metadata": {},
          "execution_count": 60
        }
      ]
    },
    {
      "cell_type": "code",
      "source": [
        "df.shape"
      ],
      "metadata": {
        "colab": {
          "base_uri": "https://localhost:8080/"
        },
        "id": "YH-AkVTMm7BT",
        "outputId": "b5b5b36a-6caf-4e50-9499-20f43c4e5967"
      },
      "execution_count": null,
      "outputs": [
        {
          "output_type": "execute_result",
          "data": {
            "text/plain": [
              "(2570, 10)"
            ]
          },
          "metadata": {},
          "execution_count": 61
        }
      ]
    },
    {
      "cell_type": "markdown",
      "source": [
        "# fit model one medication by linear regression"
      ],
      "metadata": {
        "id": "_jh7FiFx4vii"
      }
    },
    {
      "cell_type": "markdown",
      "source": [
        "## demonstation"
      ],
      "metadata": {
        "id": "8boHjup_d7IC"
      }
    },
    {
      "cell_type": "markdown",
      "source": [
        "[Scipy.optimize.curve_fit](https://docs.scipy.org/doc/scipy/reference/generated/scipy.optimize.curve_fit.html), This is for non linear/ linear model, depend on equation."
      ],
      "metadata": {
        "id": "zCm7NpM741Bu"
      }
    },
    {
      "cell_type": "code",
      "source": [
        "df.loc[df['Med2565'] == df.Med2565.max(), ['Meditem','Medname','Med2565']]"
      ],
      "metadata": {
        "colab": {
          "base_uri": "https://localhost:8080/",
          "height": 81
        },
        "id": "6xIDPK1H4l3Q",
        "outputId": "99636b63-5d7c-480d-913a-1bf89fdd542f"
      },
      "execution_count": null,
      "outputs": [
        {
          "output_type": "execute_result",
          "data": {
            "text/plain": [
              "    Meditem           Medname  Med2565\n",
              "490    3882  metforMIN 500 MG  4565356"
            ],
            "text/html": [
              "\n",
              "  <div id=\"df-bfb2d9c7-7922-45c5-9054-52851ebb9bcb\">\n",
              "    <div class=\"colab-df-container\">\n",
              "      <div>\n",
              "<style scoped>\n",
              "    .dataframe tbody tr th:only-of-type {\n",
              "        vertical-align: middle;\n",
              "    }\n",
              "\n",
              "    .dataframe tbody tr th {\n",
              "        vertical-align: top;\n",
              "    }\n",
              "\n",
              "    .dataframe thead th {\n",
              "        text-align: right;\n",
              "    }\n",
              "</style>\n",
              "<table border=\"1\" class=\"dataframe\">\n",
              "  <thead>\n",
              "    <tr style=\"text-align: right;\">\n",
              "      <th></th>\n",
              "      <th>Meditem</th>\n",
              "      <th>Medname</th>\n",
              "      <th>Med2565</th>\n",
              "    </tr>\n",
              "  </thead>\n",
              "  <tbody>\n",
              "    <tr>\n",
              "      <th>490</th>\n",
              "      <td>3882</td>\n",
              "      <td>metforMIN 500 MG</td>\n",
              "      <td>4565356</td>\n",
              "    </tr>\n",
              "  </tbody>\n",
              "</table>\n",
              "</div>\n",
              "      <button class=\"colab-df-convert\" onclick=\"convertToInteractive('df-bfb2d9c7-7922-45c5-9054-52851ebb9bcb')\"\n",
              "              title=\"Convert this dataframe to an interactive table.\"\n",
              "              style=\"display:none;\">\n",
              "        \n",
              "  <svg xmlns=\"http://www.w3.org/2000/svg\" height=\"24px\"viewBox=\"0 0 24 24\"\n",
              "       width=\"24px\">\n",
              "    <path d=\"M0 0h24v24H0V0z\" fill=\"none\"/>\n",
              "    <path d=\"M18.56 5.44l.94 2.06.94-2.06 2.06-.94-2.06-.94-.94-2.06-.94 2.06-2.06.94zm-11 1L8.5 8.5l.94-2.06 2.06-.94-2.06-.94L8.5 2.5l-.94 2.06-2.06.94zm10 10l.94 2.06.94-2.06 2.06-.94-2.06-.94-.94-2.06-.94 2.06-2.06.94z\"/><path d=\"M17.41 7.96l-1.37-1.37c-.4-.4-.92-.59-1.43-.59-.52 0-1.04.2-1.43.59L10.3 9.45l-7.72 7.72c-.78.78-.78 2.05 0 2.83L4 21.41c.39.39.9.59 1.41.59.51 0 1.02-.2 1.41-.59l7.78-7.78 2.81-2.81c.8-.78.8-2.07 0-2.86zM5.41 20L4 18.59l7.72-7.72 1.47 1.35L5.41 20z\"/>\n",
              "  </svg>\n",
              "      </button>\n",
              "      \n",
              "  <style>\n",
              "    .colab-df-container {\n",
              "      display:flex;\n",
              "      flex-wrap:wrap;\n",
              "      gap: 12px;\n",
              "    }\n",
              "\n",
              "    .colab-df-convert {\n",
              "      background-color: #E8F0FE;\n",
              "      border: none;\n",
              "      border-radius: 50%;\n",
              "      cursor: pointer;\n",
              "      display: none;\n",
              "      fill: #1967D2;\n",
              "      height: 32px;\n",
              "      padding: 0 0 0 0;\n",
              "      width: 32px;\n",
              "    }\n",
              "\n",
              "    .colab-df-convert:hover {\n",
              "      background-color: #E2EBFA;\n",
              "      box-shadow: 0px 1px 2px rgba(60, 64, 67, 0.3), 0px 1px 3px 1px rgba(60, 64, 67, 0.15);\n",
              "      fill: #174EA6;\n",
              "    }\n",
              "\n",
              "    [theme=dark] .colab-df-convert {\n",
              "      background-color: #3B4455;\n",
              "      fill: #D2E3FC;\n",
              "    }\n",
              "\n",
              "    [theme=dark] .colab-df-convert:hover {\n",
              "      background-color: #434B5C;\n",
              "      box-shadow: 0px 1px 3px 1px rgba(0, 0, 0, 0.15);\n",
              "      filter: drop-shadow(0px 1px 2px rgba(0, 0, 0, 0.3));\n",
              "      fill: #FFFFFF;\n",
              "    }\n",
              "  </style>\n",
              "\n",
              "      <script>\n",
              "        const buttonEl =\n",
              "          document.querySelector('#df-bfb2d9c7-7922-45c5-9054-52851ebb9bcb button.colab-df-convert');\n",
              "        buttonEl.style.display =\n",
              "          google.colab.kernel.accessAllowed ? 'block' : 'none';\n",
              "\n",
              "        async function convertToInteractive(key) {\n",
              "          const element = document.querySelector('#df-bfb2d9c7-7922-45c5-9054-52851ebb9bcb');\n",
              "          const dataTable =\n",
              "            await google.colab.kernel.invokeFunction('convertToInteractive',\n",
              "                                                     [key], {});\n",
              "          if (!dataTable) return;\n",
              "\n",
              "          const docLinkHtml = 'Like what you see? Visit the ' +\n",
              "            '<a target=\"_blank\" href=https://colab.research.google.com/notebooks/data_table.ipynb>data table notebook</a>'\n",
              "            + ' to learn more about interactive tables.';\n",
              "          element.innerHTML = '';\n",
              "          dataTable['output_type'] = 'display_data';\n",
              "          await google.colab.output.renderOutput(dataTable, element);\n",
              "          const docLink = document.createElement('div');\n",
              "          docLink.innerHTML = docLinkHtml;\n",
              "          element.appendChild(docLink);\n",
              "        }\n",
              "      </script>\n",
              "    </div>\n",
              "  </div>\n",
              "  "
            ]
          },
          "metadata": {},
          "execution_count": 62
        }
      ]
    },
    {
      "cell_type": "code",
      "source": [
        "df.loc[490]"
      ],
      "metadata": {
        "colab": {
          "base_uri": "https://localhost:8080/"
        },
        "id": "boMDOUh65oGn",
        "outputId": "0e67dd5e-446d-4215-8209-e60e99e96266"
      },
      "execution_count": null,
      "outputs": [
        {
          "output_type": "execute_result",
          "data": {
            "text/plain": [
              "Meditem                            3882\n",
              "Medtype                              10\n",
              "Medname                metforMIN 500 MG\n",
              "Medcost                            0.35\n",
              "LastEffctiveDate    2018-11-02 00:00:00\n",
              "Med2561                         1026911\n",
              "Med2562                         2999314\n",
              "Med2563                         3758914\n",
              "Med2564                         4333879\n",
              "Med2565                         4565356\n",
              "Name: 490, dtype: object"
            ]
          },
          "metadata": {},
          "execution_count": 63
        }
      ]
    },
    {
      "cell_type": "code",
      "source": [
        "df.columns"
      ],
      "metadata": {
        "colab": {
          "base_uri": "https://localhost:8080/"
        },
        "id": "5gyo_l95nY82",
        "outputId": "ace27f11-e8ab-48af-ca98-95d231e18f12"
      },
      "execution_count": null,
      "outputs": [
        {
          "output_type": "execute_result",
          "data": {
            "text/plain": [
              "Index(['Meditem', 'Medtype', 'Medname', 'Medcost', 'LastEffctiveDate',\n",
              "       'Med2561', 'Med2562', 'Med2563', 'Med2564', 'Med2565'],\n",
              "      dtype='object')"
            ]
          },
          "metadata": {},
          "execution_count": 64
        }
      ]
    },
    {
      "cell_type": "code",
      "source": [
        "df.loc[490, ['Med2561', 'Med2562', 'Med2563', 'Med2564', 'Med2565']].plot()"
      ],
      "metadata": {
        "colab": {
          "base_uri": "https://localhost:8080/",
          "height": 293
        },
        "id": "dNmpcuHv6K9F",
        "outputId": "434481f7-2b9d-455e-9f9a-7425d47c42ea"
      },
      "execution_count": null,
      "outputs": [
        {
          "output_type": "execute_result",
          "data": {
            "text/plain": [
              "<matplotlib.axes._subplots.AxesSubplot at 0x7fa622654b20>"
            ]
          },
          "metadata": {},
          "execution_count": 65
        },
        {
          "output_type": "display_data",
          "data": {
            "text/plain": [
              "<Figure size 432x288 with 1 Axes>"
            ],
            "image/png": "[encoded data removed]"
          },
          "metadata": {
            "needs_background": "light"
          }
        }
      ]
    },
    {
      "cell_type": "code",
      "source": [
        "def linear_model(x,a,b):\n",
        "  return a*x +b\n",
        "\n",
        "xdata = np.arange(1,6,1) #year 2561 = 1\n",
        "ydata = df.loc[490, ['Med2561', 'Med2562', 'Med2563', 'Med2564', 'Med2565']].values\n",
        "\n",
        "popt, pcov = optim.curve_fit(linear_model, xdata, ydata, method = 'lm') #method lm = least square\n",
        "print('popt: ', popt)\n",
        "print('pcov: ',pcov)"
      ],
      "metadata": {
        "colab": {
          "base_uri": "https://localhost:8080/"
        },
        "id": "WaTx1pgH6g2Q",
        "outputId": "8a1c98cd-c2fa-42d5-c288-dcac659e5904"
      },
      "execution_count": null,
      "outputs": [
        {
          "output_type": "stream",
          "name": "stdout",
          "text": [
            "popt:  [841145.5015547  813438.29495347]\n",
            "pcov:  [[ 3.51974349e+10 -1.05592304e+11]\n",
            " [-1.05592304e+11  3.87171782e+11]]\n"
          ]
        }
      ]
    },
    {
      "cell_type": "code",
      "source": [
        "# compute one standard deviation errors on the parameters use\n",
        "np.sqrt(np.diag(pcov))"
      ],
      "metadata": {
        "colab": {
          "base_uri": "https://localhost:8080/"
        },
        "id": "Km7oo6Aj_BWy",
        "outputId": "455d1982-771c-40e4-c5ed-bc9b38b986d1"
      },
      "execution_count": null,
      "outputs": [
        {
          "output_type": "execute_result",
          "data": {
            "text/plain": [
              "array([187609.79436863, 622231.29300516])"
            ]
          },
          "metadata": {},
          "execution_count": 67
        }
      ]
    },
    {
      "cell_type": "code",
      "source": [
        "#compute RMSE from model\n",
        "\n",
        "x=np.arange(1,6,1)\n",
        "ypred = popt[0]*x + popt[1]\n",
        "\n",
        "\n",
        "plt.plot(x,ypred)\n",
        "plt.plot(xdata,ydata)"
      ],
      "metadata": {
        "id": "RpBLHbLzA5fs",
        "colab": {
          "base_uri": "https://localhost:8080/",
          "height": 293
        },
        "outputId": "ae31c8ce-294f-4e11-f5d2-32a5eb5185af"
      },
      "execution_count": null,
      "outputs": [
        {
          "output_type": "execute_result",
          "data": {
            "text/plain": [
              "[<matplotlib.lines.Line2D at 0x7fa6224fa2e0>]"
            ]
          },
          "metadata": {},
          "execution_count": 68
        },
        {
          "output_type": "display_data",
          "data": {
            "text/plain": [
              "<Figure size 432x288 with 1 Axes>"
            ],
            "image/png": "[encoded data removed]"
          },
          "metadata": {
            "needs_background": "light"
          }
        }
      ]
    },
    {
      "cell_type": "code",
      "source": [
        "def root_mean_sqe(true_arr, pred_arr):\n",
        "  \"\"\"\n",
        "  predic RMSE from 2 np.array data-1d\n",
        "  they must be same length\n",
        "  \"\"\"\n",
        "  if len(true_arr) == len(pred_arr):\n",
        "    lengtharr = len(true_arr)\n",
        "    point_mse = np.zeros((lengtharr,1))\n",
        "\n",
        "    for i in range(lengtharr):\n",
        "      point_mse[i] = true_arr[i]**2 - pred_arr[i]**2\n",
        "    \n",
        "    return np.sqrt(np.sum(point_mse)/lengtharr)\n",
        "  else:\n",
        "    print('array must be same length')"
      ],
      "metadata": {
        "id": "1oMCwPliWq4e"
      },
      "execution_count": null,
      "outputs": []
    },
    {
      "cell_type": "code",
      "source": [
        "rmse_test = root_mean_sqe(ydata,ypred)"
      ],
      "metadata": {
        "id": "dZ7dFfiacA5C"
      },
      "execution_count": null,
      "outputs": []
    },
    {
      "cell_type": "code",
      "source": [
        "rmse_test"
      ],
      "metadata": {
        "colab": {
          "base_uri": "https://localhost:8080/"
        },
        "id": "M89n-2U_n9fX",
        "outputId": "502fa67d-7567-415d-c134-59a32df0fe2b"
      },
      "execution_count": null,
      "outputs": [
        {
          "output_type": "execute_result",
          "data": {
            "text/plain": [
              "459548.2642376933"
            ]
          },
          "metadata": {},
          "execution_count": 71
        }
      ]
    },
    {
      "cell_type": "code",
      "source": [
        "#check rmse sholud not > 20% of average amount\n",
        "def exceedRMSE(true_arr,rmse):\n",
        "  avg = np.mean(true_arr)\n",
        "  return rmse*100/avg"
      ],
      "metadata": {
        "id": "kKNknFZpcqR1"
      },
      "execution_count": null,
      "outputs": []
    },
    {
      "cell_type": "code",
      "source": [
        "exceedRMSE(ydata,rmse_test)"
      ],
      "metadata": {
        "colab": {
          "base_uri": "https://localhost:8080/"
        },
        "id": "EFzFkBmcdShb",
        "outputId": "9362287d-4514-457f-ccdc-91fe152cc10d"
      },
      "execution_count": null,
      "outputs": [
        {
          "output_type": "execute_result",
          "data": {
            "text/plain": [
              "13.771819500457411"
            ]
          },
          "metadata": {},
          "execution_count": 73
        }
      ]
    },
    {
      "cell_type": "code",
      "source": [
        "Xpredict = 6\n",
        "pred2566 = ypred = popt[0]*Xpredict + popt[1]\n",
        "print(pred2566)"
      ],
      "metadata": {
        "colab": {
          "base_uri": "https://localhost:8080/"
        },
        "id": "087laNwfdYzD",
        "outputId": "2d9aaa65-b187-4bd5-d07b-80595e896ad9"
      },
      "execution_count": null,
      "outputs": [
        {
          "output_type": "stream",
          "name": "stdout",
          "text": [
            "5860311.304281649\n"
          ]
        }
      ]
    },
    {
      "cell_type": "markdown",
      "source": [
        "## all dataset"
      ],
      "metadata": {
        "id": "e8gCH_bxfJ8s"
      }
    },
    {
      "cell_type": "code",
      "source": [
        "df=df.reset_index()"
      ],
      "metadata": {
        "id": "cAA1be__qBNS"
      },
      "execution_count": null,
      "outputs": []
    },
    {
      "cell_type": "markdown",
      "source": [
        "### define function"
      ],
      "metadata": {
        "id": "wcCVWpTkfL7U"
      }
    },
    {
      "cell_type": "code",
      "source": [
        "def linear_model(x,a,b):\n",
        "  return a*x +b\n",
        "\n",
        "def root_mean_sqe(true_arr, pred_arr):\n",
        "  \"\"\"\n",
        "  predic RMSE from 2 np.array data-1d\n",
        "  they must be same length\n",
        "  \"\"\"\n",
        "  if len(true_arr) == len(pred_arr):\n",
        "    lengtharr = len(true_arr)\n",
        "    point_mse = np.zeros((lengtharr,1))\n",
        "\n",
        "    for i in range(lengtharr):\n",
        "      point_mse[i] = true_arr[i]**2 - pred_arr[i]**2\n",
        "    \n",
        "    return np.sqrt(np.sum(point_mse)/ lengtharr)\n",
        "  else:\n",
        "    print('array must be same length')\n",
        "\n",
        "def percentRMSE(true_arr,rmse):\n",
        "  avg = np.mean(true_arr)\n",
        "  if avg == 0:\n",
        "    return 0\n",
        "  else:\n",
        "    return rmse*100/avg\n"
      ],
      "metadata": {
        "id": "47wkvjUvduHe"
      },
      "execution_count": null,
      "outputs": []
    },
    {
      "cell_type": "markdown",
      "source": [
        "### run model"
      ],
      "metadata": {
        "id": "T_lW8XivgA8C"
      }
    },
    {
      "cell_type": "code",
      "source": [
        "\n",
        "'''\n",
        "dict for collect result by Meditem\n",
        "[slope, intercept, rmse, predic2566, Costrate]\n",
        "'''\n",
        "prediction_results = dict()\n",
        "\n",
        "#list for collect medcode that has high RMSE, predict negative amount\n",
        "med_highRMSE = []\n",
        "negative_amount_prediction = []\n",
        "\n",
        "#declare X\n",
        "xdata = np.arange(1,6,1, dtype = 'int')#2561 (1) - 2565 (5) --> predict 2566 (6)\n",
        "x2566 = 6\n",
        "\n",
        "#declare model\n",
        "def linear_model(x,a,b):\n",
        "  return a*x +b\n",
        "\n",
        "#lopp over medication\n",
        "for i in range(len(df)):\n",
        "  #list for collect data of each medication\n",
        "  meditem = df.Meditem[i]\n",
        "  med_result = []\n",
        "  #get amount od medication by year\n",
        "  ydata = df.loc[i,['Med2561', 'Med2562', 'Med2563',\n",
        "       'Med2564', 'Med2565']].values\n",
        "  popt,_ = optim.curve_fit(linear_model, xdata, ydata, method = 'lm')\n",
        "\n",
        "  #slope = popt[0]=a, intercept = popt[1]=b\n",
        "  slope, intercept = popt #[a,b]\n",
        "  med_result.append(slope)\n",
        "  med_result.append(intercept)\n",
        "\n",
        "  #construct linear model\n",
        "  ypred = linear_model(xdata,slope,intercept)\n",
        "\n",
        "  #rmse\n",
        "  rmse = root_mean_sqe(ydata,ypred)\n",
        "  # med_result.append(rmse) #append after check pred2566\n",
        "  \n",
        "  #predict 2566\n",
        "  \"\"\"\n",
        "  Note (after previous debug some drug predicting to negative.\n",
        "  these due to decline of dispense and nearly zero at 2565.\n",
        "  So, I will predict to half of amount at 2565.\n",
        "  \"\"\"\n",
        "  pred2566 = linear_model(x2566,slope,intercept)\n",
        "  if pred2566 < 0 :\n",
        "    pred2566 = ydata[4]/2 # amunt of 2565/2\n",
        "    negative_amount_prediction.append(meditem)\n",
        "    #append rmse = 1/6 x amount 2565\n",
        "    rmse = ydata[4]/6\n",
        "  med_result.append(rmse)\n",
        "\n",
        "  #check exceed rmse\n",
        "  exceed = percentRMSE(ydata,rmse)\n",
        "  if exceed > 30: #30%\n",
        "    med_highRMSE.append(df.Meditem[i])\n",
        "    \n",
        "  #append pred2566\n",
        "  med_result.append(pred2566)\n",
        "\n",
        "\n",
        "  #append price of medication\n",
        "  med_result.append(df.Medcost[i])\n",
        "\n",
        "  #save in dict\n",
        "  prediction_results[meditem] = med_result\n",
        "\n",
        "print('finished')"
      ],
      "metadata": {
        "colab": {
          "base_uri": "https://localhost:8080/"
        },
        "id": "2pkwG49QgEvf",
        "outputId": "83b6b8aa-9ff1-4066-de6c-bebed4a7a84c"
      },
      "execution_count": null,
      "outputs": [
        {
          "output_type": "stream",
          "name": "stdout",
          "text": [
            "finished\n"
          ]
        }
      ]
    },
    {
      "cell_type": "code",
      "source": [
        "prediction_results"
      ],
      "metadata": {
        "id": "F-DNlbeui9Cq"
      },
      "execution_count": null,
      "outputs": []
    },
    {
      "cell_type": "code",
      "source": [
        "len(med_highRMSE)"
      ],
      "metadata": {
        "colab": {
          "base_uri": "https://localhost:8080/"
        },
        "id": "F9B_vkJpi-O3",
        "outputId": "84b1ae00-5369-4b8b-947d-fcb0f3e65558"
      },
      "execution_count": null,
      "outputs": [
        {
          "output_type": "execute_result",
          "data": {
            "text/plain": [
              "998"
            ]
          },
          "metadata": {},
          "execution_count": 151
        }
      ]
    },
    {
      "cell_type": "code",
      "source": [
        "len(negative_amount_prediction)"
      ],
      "metadata": {
        "colab": {
          "base_uri": "https://localhost:8080/"
        },
        "id": "lOhbZQNttDJU",
        "outputId": "a32c84b1-f03b-4893-936f-1d72154b65da"
      },
      "execution_count": null,
      "outputs": [
        {
          "output_type": "execute_result",
          "data": {
            "text/plain": [
              "474"
            ]
          },
          "metadata": {},
          "execution_count": 152
        }
      ]
    },
    {
      "cell_type": "code",
      "source": [
        "len(prediction_results)"
      ],
      "metadata": {
        "colab": {
          "base_uri": "https://localhost:8080/"
        },
        "id": "qmP2wyOttV3t",
        "outputId": "b395abb7-7757-4b46-abc3-da9b91afe6d3"
      },
      "execution_count": null,
      "outputs": [
        {
          "output_type": "execute_result",
          "data": {
            "text/plain": [
              "2570"
            ]
          },
          "metadata": {},
          "execution_count": 153
        }
      ]
    },
    {
      "cell_type": "markdown",
      "source": [
        "## demonstrate high RMSE medication\n",
        "why?"
      ],
      "metadata": {
        "id": "SxMUETatqghd"
      }
    },
    {
      "cell_type": "code",
      "source": [
        "med_highRMSE"
      ],
      "metadata": {
        "id": "AdtvdtgOocjW"
      },
      "execution_count": null,
      "outputs": []
    },
    {
      "cell_type": "code",
      "source": [
        "df[df.Meditem == med_highRMSE[40]]"
      ],
      "metadata": {
        "colab": {
          "base_uri": "https://localhost:8080/",
          "height": 162
        },
        "id": "zim5YP8WuHya",
        "outputId": "24fe8edf-9bff-4f64-f981-5f20b4012d11"
      },
      "execution_count": null,
      "outputs": [
        {
          "output_type": "execute_result",
          "data": {
            "text/plain": [
              "     index Meditem  Medtype                Medname  Medcost LastEffctiveDate  \\\n",
              "137    137     728       10  DICLOXACILLIN 250 MG.     1.06       2016-11-24   \n",
              "\n",
              "     Med2561  Med2562  Med2563  Med2564  Med2565  \n",
              "137    11990    13111    39842    18701    22444  "
            ],
            "text/html": [
              "\n",
              "  <div id=\"df-2b65b3f9-dd16-4820-a23f-cb0a409e5e38\">\n",
              "    <div class=\"colab-df-container\">\n",
              "      <div>\n",
              "<style scoped>\n",
              "    .dataframe tbody tr th:only-of-type {\n",
              "        vertical-align: middle;\n",
              "    }\n",
              "\n",
              "    .dataframe tbody tr th {\n",
              "        vertical-align: top;\n",
              "    }\n",
              "\n",
              "    .dataframe thead th {\n",
              "        text-align: right;\n",
              "    }\n",
              "</style>\n",
              "<table border=\"1\" class=\"dataframe\">\n",
              "  <thead>\n",
              "    <tr style=\"text-align: right;\">\n",
              "      <th></th>\n",
              "      <th>index</th>\n",
              "      <th>Meditem</th>\n",
              "      <th>Medtype</th>\n",
              "      <th>Medname</th>\n",
              "      <th>Medcost</th>\n",
              "      <th>LastEffctiveDate</th>\n",
              "      <th>Med2561</th>\n",
              "      <th>Med2562</th>\n",
              "      <th>Med2563</th>\n",
              "      <th>Med2564</th>\n",
              "      <th>Med2565</th>\n",
              "    </tr>\n",
              "  </thead>\n",
              "  <tbody>\n",
              "    <tr>\n",
              "      <th>137</th>\n",
              "      <td>137</td>\n",
              "      <td>728</td>\n",
              "      <td>10</td>\n",
              "      <td>DICLOXACILLIN 250 MG.</td>\n",
              "      <td>1.06</td>\n",
              "      <td>2016-11-24</td>\n",
              "      <td>11990</td>\n",
              "      <td>13111</td>\n",
              "      <td>39842</td>\n",
              "      <td>18701</td>\n",
              "      <td>22444</td>\n",
              "    </tr>\n",
              "  </tbody>\n",
              "</table>\n",
              "</div>\n",
              "      <button class=\"colab-df-convert\" onclick=\"convertToInteractive('df-2b65b3f9-dd16-4820-a23f-cb0a409e5e38')\"\n",
              "              title=\"Convert this dataframe to an interactive table.\"\n",
              "              style=\"display:none;\">\n",
              "        \n",
              "  <svg xmlns=\"http://www.w3.org/2000/svg\" height=\"24px\"viewBox=\"0 0 24 24\"\n",
              "       width=\"24px\">\n",
              "    <path d=\"M0 0h24v24H0V0z\" fill=\"none\"/>\n",
              "    <path d=\"M18.56 5.44l.94 2.06.94-2.06 2.06-.94-2.06-.94-.94-2.06-.94 2.06-2.06.94zm-11 1L8.5 8.5l.94-2.06 2.06-.94-2.06-.94L8.5 2.5l-.94 2.06-2.06.94zm10 10l.94 2.06.94-2.06 2.06-.94-2.06-.94-.94-2.06-.94 2.06-2.06.94z\"/><path d=\"M17.41 7.96l-1.37-1.37c-.4-.4-.92-.59-1.43-.59-.52 0-1.04.2-1.43.59L10.3 9.45l-7.72 7.72c-.78.78-.78 2.05 0 2.83L4 21.41c.39.39.9.59 1.41.59.51 0 1.02-.2 1.41-.59l7.78-7.78 2.81-2.81c.8-.78.8-2.07 0-2.86zM5.41 20L4 18.59l7.72-7.72 1.47 1.35L5.41 20z\"/>\n",
              "  </svg>\n",
              "      </button>\n",
              "      \n",
              "  <style>\n",
              "    .colab-df-container {\n",
              "      display:flex;\n",
              "      flex-wrap:wrap;\n",
              "      gap: 12px;\n",
              "    }\n",
              "\n",
              "    .colab-df-convert {\n",
              "      background-color: #E8F0FE;\n",
              "      border: none;\n",
              "      border-radius: 50%;\n",
              "      cursor: pointer;\n",
              "      display: none;\n",
              "      fill: #1967D2;\n",
              "      height: 32px;\n",
              "      padding: 0 0 0 0;\n",
              "      width: 32px;\n",
              "    }\n",
              "\n",
              "    .colab-df-convert:hover {\n",
              "      background-color: #E2EBFA;\n",
              "      box-shadow: 0px 1px 2px rgba(60, 64, 67, 0.3), 0px 1px 3px 1px rgba(60, 64, 67, 0.15);\n",
              "      fill: #174EA6;\n",
              "    }\n",
              "\n",
              "    [theme=dark] .colab-df-convert {\n",
              "      background-color: #3B4455;\n",
              "      fill: #D2E3FC;\n",
              "    }\n",
              "\n",
              "    [theme=dark] .colab-df-convert:hover {\n",
              "      background-color: #434B5C;\n",
              "      box-shadow: 0px 1px 3px 1px rgba(0, 0, 0, 0.15);\n",
              "      filter: drop-shadow(0px 1px 2px rgba(0, 0, 0, 0.3));\n",
              "      fill: #FFFFFF;\n",
              "    }\n",
              "  </style>\n",
              "\n",
              "      <script>\n",
              "        const buttonEl =\n",
              "          document.querySelector('#df-2b65b3f9-dd16-4820-a23f-cb0a409e5e38 button.colab-df-convert');\n",
              "        buttonEl.style.display =\n",
              "          google.colab.kernel.accessAllowed ? 'block' : 'none';\n",
              "\n",
              "        async function convertToInteractive(key) {\n",
              "          const element = document.querySelector('#df-2b65b3f9-dd16-4820-a23f-cb0a409e5e38');\n",
              "          const dataTable =\n",
              "            await google.colab.kernel.invokeFunction('convertToInteractive',\n",
              "                                                     [key], {});\n",
              "          if (!dataTable) return;\n",
              "\n",
              "          const docLinkHtml = 'Like what you see? Visit the ' +\n",
              "            '<a target=\"_blank\" href=https://colab.research.google.com/notebooks/data_table.ipynb>data table notebook</a>'\n",
              "            + ' to learn more about interactive tables.';\n",
              "          element.innerHTML = '';\n",
              "          dataTable['output_type'] = 'display_data';\n",
              "          await google.colab.output.renderOutput(dataTable, element);\n",
              "          const docLink = document.createElement('div');\n",
              "          docLink.innerHTML = docLinkHtml;\n",
              "          element.appendChild(docLink);\n",
              "        }\n",
              "      </script>\n",
              "    </div>\n",
              "  </div>\n",
              "  "
            ]
          },
          "metadata": {},
          "execution_count": 155
        }
      ]
    },
    {
      "cell_type": "code",
      "source": [
        "prediction_results['728']"
      ],
      "metadata": {
        "colab": {
          "base_uri": "https://localhost:8080/"
        },
        "id": "JNlb_8mLuSdQ",
        "outputId": "648eb03a-b906-417f-bffa-7a45a9efcfbf"
      },
      "execution_count": null,
      "outputs": [
        {
          "output_type": "execute_result",
          "data": {
            "text/plain": [
              "[2649.799972720365,\n",
              " 13268.200091112969,\n",
              " 9331.203269439346,\n",
              " 29166.999927435158,\n",
              " 1.06]"
            ]
          },
          "metadata": {},
          "execution_count": 156
        }
      ]
    },
    {
      "cell_type": "code",
      "source": [
        "df[df.Meditem == med_highRMSE[60]]"
      ],
      "metadata": {
        "colab": {
          "base_uri": "https://localhost:8080/",
          "height": 179
        },
        "id": "j4E3iNKTueot",
        "outputId": "4a9b68f0-97c1-4213-a8f6-4e9f235b5be9"
      },
      "execution_count": null,
      "outputs": [
        {
          "output_type": "execute_result",
          "data": {
            "text/plain": [
              "     index Meditem  Medtype                    Medname  Medcost  \\\n",
              "227    227    1289       10  KETOTIFEN ( Keten ) 60 ML    40.66   \n",
              "\n",
              "    LastEffctiveDate  Med2561  Med2562  Med2563  Med2564  Med2565  \n",
              "227       2018-10-24        0      126       77        0        0  "
            ],
            "text/html": [
              "\n",
              "  <div id=\"df-10ff05db-cea1-4160-83cb-a6c2dfc35571\">\n",
              "    <div class=\"colab-df-container\">\n",
              "      <div>\n",
              "<style scoped>\n",
              "    .dataframe tbody tr th:only-of-type {\n",
              "        vertical-align: middle;\n",
              "    }\n",
              "\n",
              "    .dataframe tbody tr th {\n",
              "        vertical-align: top;\n",
              "    }\n",
              "\n",
              "    .dataframe thead th {\n",
              "        text-align: right;\n",
              "    }\n",
              "</style>\n",
              "<table border=\"1\" class=\"dataframe\">\n",
              "  <thead>\n",
              "    <tr style=\"text-align: right;\">\n",
              "      <th></th>\n",
              "      <th>index</th>\n",
              "      <th>Meditem</th>\n",
              "      <th>Medtype</th>\n",
              "      <th>Medname</th>\n",
              "      <th>Medcost</th>\n",
              "      <th>LastEffctiveDate</th>\n",
              "      <th>Med2561</th>\n",
              "      <th>Med2562</th>\n",
              "      <th>Med2563</th>\n",
              "      <th>Med2564</th>\n",
              "      <th>Med2565</th>\n",
              "    </tr>\n",
              "  </thead>\n",
              "  <tbody>\n",
              "    <tr>\n",
              "      <th>227</th>\n",
              "      <td>227</td>\n",
              "      <td>1289</td>\n",
              "      <td>10</td>\n",
              "      <td>KETOTIFEN ( Keten ) 60 ML</td>\n",
              "      <td>40.66</td>\n",
              "      <td>2018-10-24</td>\n",
              "      <td>0</td>\n",
              "      <td>126</td>\n",
              "      <td>77</td>\n",
              "      <td>0</td>\n",
              "      <td>0</td>\n",
              "    </tr>\n",
              "  </tbody>\n",
              "</table>\n",
              "</div>\n",
              "      <button class=\"colab-df-convert\" onclick=\"convertToInteractive('df-10ff05db-cea1-4160-83cb-a6c2dfc35571')\"\n",
              "              title=\"Convert this dataframe to an interactive table.\"\n",
              "              style=\"display:none;\">\n",
              "        \n",
              "  <svg xmlns=\"http://www.w3.org/2000/svg\" height=\"24px\"viewBox=\"0 0 24 24\"\n",
              "       width=\"24px\">\n",
              "    <path d=\"M0 0h24v24H0V0z\" fill=\"none\"/>\n",
              "    <path d=\"M18.56 5.44l.94 2.06.94-2.06 2.06-.94-2.06-.94-.94-2.06-.94 2.06-2.06.94zm-11 1L8.5 8.5l.94-2.06 2.06-.94-2.06-.94L8.5 2.5l-.94 2.06-2.06.94zm10 10l.94 2.06.94-2.06 2.06-.94-2.06-.94-.94-2.06-.94 2.06-2.06.94z\"/><path d=\"M17.41 7.96l-1.37-1.37c-.4-.4-.92-.59-1.43-.59-.52 0-1.04.2-1.43.59L10.3 9.45l-7.72 7.72c-.78.78-.78 2.05 0 2.83L4 21.41c.39.39.9.59 1.41.59.51 0 1.02-.2 1.41-.59l7.78-7.78 2.81-2.81c.8-.78.8-2.07 0-2.86zM5.41 20L4 18.59l7.72-7.72 1.47 1.35L5.41 20z\"/>\n",
              "  </svg>\n",
              "      </button>\n",
              "      \n",
              "  <style>\n",
              "    .colab-df-container {\n",
              "      display:flex;\n",
              "      flex-wrap:wrap;\n",
              "      gap: 12px;\n",
              "    }\n",
              "\n",
              "    .colab-df-convert {\n",
              "      background-color: #E8F0FE;\n",
              "      border: none;\n",
              "      border-radius: 50%;\n",
              "      cursor: pointer;\n",
              "      display: none;\n",
              "      fill: #1967D2;\n",
              "      height: 32px;\n",
              "      padding: 0 0 0 0;\n",
              "      width: 32px;\n",
              "    }\n",
              "\n",
              "    .colab-df-convert:hover {\n",
              "      background-color: #E2EBFA;\n",
              "      box-shadow: 0px 1px 2px rgba(60, 64, 67, 0.3), 0px 1px 3px 1px rgba(60, 64, 67, 0.15);\n",
              "      fill: #174EA6;\n",
              "    }\n",
              "\n",
              "    [theme=dark] .colab-df-convert {\n",
              "      background-color: #3B4455;\n",
              "      fill: #D2E3FC;\n",
              "    }\n",
              "\n",
              "    [theme=dark] .colab-df-convert:hover {\n",
              "      background-color: #434B5C;\n",
              "      box-shadow: 0px 1px 3px 1px rgba(0, 0, 0, 0.15);\n",
              "      filter: drop-shadow(0px 1px 2px rgba(0, 0, 0, 0.3));\n",
              "      fill: #FFFFFF;\n",
              "    }\n",
              "  </style>\n",
              "\n",
              "      <script>\n",
              "        const buttonEl =\n",
              "          document.querySelector('#df-10ff05db-cea1-4160-83cb-a6c2dfc35571 button.colab-df-convert');\n",
              "        buttonEl.style.display =\n",
              "          google.colab.kernel.accessAllowed ? 'block' : 'none';\n",
              "\n",
              "        async function convertToInteractive(key) {\n",
              "          const element = document.querySelector('#df-10ff05db-cea1-4160-83cb-a6c2dfc35571');\n",
              "          const dataTable =\n",
              "            await google.colab.kernel.invokeFunction('convertToInteractive',\n",
              "                                                     [key], {});\n",
              "          if (!dataTable) return;\n",
              "\n",
              "          const docLinkHtml = 'Like what you see? Visit the ' +\n",
              "            '<a target=\"_blank\" href=https://colab.research.google.com/notebooks/data_table.ipynb>data table notebook</a>'\n",
              "            + ' to learn more about interactive tables.';\n",
              "          element.innerHTML = '';\n",
              "          dataTable['output_type'] = 'display_data';\n",
              "          await google.colab.output.renderOutput(dataTable, element);\n",
              "          const docLink = document.createElement('div');\n",
              "          docLink.innerHTML = docLinkHtml;\n",
              "          element.appendChild(docLink);\n",
              "        }\n",
              "      </script>\n",
              "    </div>\n",
              "  </div>\n",
              "  "
            ]
          },
          "metadata": {},
          "execution_count": 157
        }
      ]
    },
    {
      "cell_type": "code",
      "source": [
        "prediction_results['1289']"
      ],
      "metadata": {
        "colab": {
          "base_uri": "https://localhost:8080/"
        },
        "id": "WBPyt4lbumwc",
        "outputId": "6f8a8cf8-8ba1-4cda-e163-436cea65df4c"
      },
      "execution_count": null,
      "outputs": [
        {
          "output_type": "execute_result",
          "data": {
            "text/plain": [
              "[-12.599999920527157,\n",
              " 78.39999976158148,\n",
              " 48.93996326117777,\n",
              " 2.8000002384185336,\n",
              " 40.66]"
            ]
          },
          "metadata": {},
          "execution_count": 158
        }
      ]
    },
    {
      "cell_type": "markdown",
      "source": [
        "Problem from data --> but nearly zero"
      ],
      "metadata": {
        "id": "vyO9brU0uqIb"
      }
    },
    {
      "cell_type": "markdown",
      "source": [
        "### create dataframe from 1st result"
      ],
      "metadata": {
        "id": "W3QVpeMYQSjK"
      }
    },
    {
      "cell_type": "code",
      "source": [
        "#create pandas dataframe\n",
        "linear_all_result = pd.DataFrame.from_dict(prediction_results, orient = 'index',\n",
        "                       columns = ['slope','intercept','rmse','predict2566','cost_unit'])"
      ],
      "metadata": {
        "id": "fyxR0jM8pXkJ"
      },
      "execution_count": null,
      "outputs": []
    },
    {
      "cell_type": "code",
      "source": [
        "linear_all_result = linear_all_result.reset_index()\n",
        "columns_name = ['Meditem','slope','intercept','rmse','predict2566','cost_unit' ]\n",
        "linear_all_result.columns = columns_name\n",
        "linear_all_result.head()"
      ],
      "metadata": {
        "colab": {
          "base_uri": "https://localhost:8080/",
          "height": 206
        },
        "id": "Drus8IrnrzdZ",
        "outputId": "25a1f7d2-db6a-4670-fe56-c1f00c51ff0b"
      },
      "execution_count": null,
      "outputs": [
        {
          "output_type": "execute_result",
          "data": {
            "text/plain": [
              "  Meditem          slope      intercept          rmse   predict2566  cost_unit\n",
              "0       5  -19636.199930  148843.999791  29409.366916  31026.800209       6.96\n",
              "1       6 -240517.599271  970072.797812      0.000000      0.000000       1.50\n",
              "2       7    -149.000002     820.400006      0.000000      0.000000     117.70\n",
              "3       8     433.299997    1422.899989   2629.696958   4022.699972     321.00\n",
              "4      16    2543.499993   -3442.299975   1094.883414  11818.699984      38.52"
            ],
            "text/html": [
              "\n",
              "  <div id=\"df-de2a9f87-c167-4208-b200-1fa279268877\">\n",
              "    <div class=\"colab-df-container\">\n",
              "      <div>\n",
              "<style scoped>\n",
              "    .dataframe tbody tr th:only-of-type {\n",
              "        vertical-align: middle;\n",
              "    }\n",
              "\n",
              "    .dataframe tbody tr th {\n",
              "        vertical-align: top;\n",
              "    }\n",
              "\n",
              "    .dataframe thead th {\n",
              "        text-align: right;\n",
              "    }\n",
              "</style>\n",
              "<table border=\"1\" class=\"dataframe\">\n",
              "  <thead>\n",
              "    <tr style=\"text-align: right;\">\n",
              "      <th></th>\n",
              "      <th>Meditem</th>\n",
              "      <th>slope</th>\n",
              "      <th>intercept</th>\n",
              "      <th>rmse</th>\n",
              "      <th>predict2566</th>\n",
              "      <th>cost_unit</th>\n",
              "    </tr>\n",
              "  </thead>\n",
              "  <tbody>\n",
              "    <tr>\n",
              "      <th>0</th>\n",
              "      <td>5</td>\n",
              "      <td>-19636.199930</td>\n",
              "      <td>148843.999791</td>\n",
              "      <td>29409.366916</td>\n",
              "      <td>31026.800209</td>\n",
              "      <td>6.96</td>\n",
              "    </tr>\n",
              "    <tr>\n",
              "      <th>1</th>\n",
              "      <td>6</td>\n",
              "      <td>-240517.599271</td>\n",
              "      <td>970072.797812</td>\n",
              "      <td>0.000000</td>\n",
              "      <td>0.000000</td>\n",
              "      <td>1.50</td>\n",
              "    </tr>\n",
              "    <tr>\n",
              "      <th>2</th>\n",
              "      <td>7</td>\n",
              "      <td>-149.000002</td>\n",
              "      <td>820.400006</td>\n",
              "      <td>0.000000</td>\n",
              "      <td>0.000000</td>\n",
              "      <td>117.70</td>\n",
              "    </tr>\n",
              "    <tr>\n",
              "      <th>3</th>\n",
              "      <td>8</td>\n",
              "      <td>433.299997</td>\n",
              "      <td>1422.899989</td>\n",
              "      <td>2629.696958</td>\n",
              "      <td>4022.699972</td>\n",
              "      <td>321.00</td>\n",
              "    </tr>\n",
              "    <tr>\n",
              "      <th>4</th>\n",
              "      <td>16</td>\n",
              "      <td>2543.499993</td>\n",
              "      <td>-3442.299975</td>\n",
              "      <td>1094.883414</td>\n",
              "      <td>11818.699984</td>\n",
              "      <td>38.52</td>\n",
              "    </tr>\n",
              "  </tbody>\n",
              "</table>\n",
              "</div>\n",
              "      <button class=\"colab-df-convert\" onclick=\"convertToInteractive('df-de2a9f87-c167-4208-b200-1fa279268877')\"\n",
              "              title=\"Convert this dataframe to an interactive table.\"\n",
              "              style=\"display:none;\">\n",
              "        \n",
              "  <svg xmlns=\"http://www.w3.org/2000/svg\" height=\"24px\"viewBox=\"0 0 24 24\"\n",
              "       width=\"24px\">\n",
              "    <path d=\"M0 0h24v24H0V0z\" fill=\"none\"/>\n",
              "    <path d=\"M18.56 5.44l.94 2.06.94-2.06 2.06-.94-2.06-.94-.94-2.06-.94 2.06-2.06.94zm-11 1L8.5 8.5l.94-2.06 2.06-.94-2.06-.94L8.5 2.5l-.94 2.06-2.06.94zm10 10l.94 2.06.94-2.06 2.06-.94-2.06-.94-.94-2.06-.94 2.06-2.06.94z\"/><path d=\"M17.41 7.96l-1.37-1.37c-.4-.4-.92-.59-1.43-.59-.52 0-1.04.2-1.43.59L10.3 9.45l-7.72 7.72c-.78.78-.78 2.05 0 2.83L4 21.41c.39.39.9.59 1.41.59.51 0 1.02-.2 1.41-.59l7.78-7.78 2.81-2.81c.8-.78.8-2.07 0-2.86zM5.41 20L4 18.59l7.72-7.72 1.47 1.35L5.41 20z\"/>\n",
              "  </svg>\n",
              "      </button>\n",
              "      \n",
              "  <style>\n",
              "    .colab-df-container {\n",
              "      display:flex;\n",
              "      flex-wrap:wrap;\n",
              "      gap: 12px;\n",
              "    }\n",
              "\n",
              "    .colab-df-convert {\n",
              "      background-color: #E8F0FE;\n",
              "      border: none;\n",
              "      border-radius: 50%;\n",
              "      cursor: pointer;\n",
              "      display: none;\n",
              "      fill: #1967D2;\n",
              "      height: 32px;\n",
              "      padding: 0 0 0 0;\n",
              "      width: 32px;\n",
              "    }\n",
              "\n",
              "    .colab-df-convert:hover {\n",
              "      background-color: #E2EBFA;\n",
              "      box-shadow: 0px 1px 2px rgba(60, 64, 67, 0.3), 0px 1px 3px 1px rgba(60, 64, 67, 0.15);\n",
              "      fill: #174EA6;\n",
              "    }\n",
              "\n",
              "    [theme=dark] .colab-df-convert {\n",
              "      background-color: #3B4455;\n",
              "      fill: #D2E3FC;\n",
              "    }\n",
              "\n",
              "    [theme=dark] .colab-df-convert:hover {\n",
              "      background-color: #434B5C;\n",
              "      box-shadow: 0px 1px 3px 1px rgba(0, 0, 0, 0.15);\n",
              "      filter: drop-shadow(0px 1px 2px rgba(0, 0, 0, 0.3));\n",
              "      fill: #FFFFFF;\n",
              "    }\n",
              "  </style>\n",
              "\n",
              "      <script>\n",
              "        const buttonEl =\n",
              "          document.querySelector('#df-de2a9f87-c167-4208-b200-1fa279268877 button.colab-df-convert');\n",
              "        buttonEl.style.display =\n",
              "          google.colab.kernel.accessAllowed ? 'block' : 'none';\n",
              "\n",
              "        async function convertToInteractive(key) {\n",
              "          const element = document.querySelector('#df-de2a9f87-c167-4208-b200-1fa279268877');\n",
              "          const dataTable =\n",
              "            await google.colab.kernel.invokeFunction('convertToInteractive',\n",
              "                                                     [key], {});\n",
              "          if (!dataTable) return;\n",
              "\n",
              "          const docLinkHtml = 'Like what you see? Visit the ' +\n",
              "            '<a target=\"_blank\" href=https://colab.research.google.com/notebooks/data_table.ipynb>data table notebook</a>'\n",
              "            + ' to learn more about interactive tables.';\n",
              "          element.innerHTML = '';\n",
              "          dataTable['output_type'] = 'display_data';\n",
              "          await google.colab.output.renderOutput(dataTable, element);\n",
              "          const docLink = document.createElement('div');\n",
              "          docLink.innerHTML = docLinkHtml;\n",
              "          element.appendChild(docLink);\n",
              "        }\n",
              "      </script>\n",
              "    </div>\n",
              "  </div>\n",
              "  "
            ]
          },
          "metadata": {},
          "execution_count": 160
        }
      ]
    },
    {
      "cell_type": "code",
      "source": [
        "#check prediction \n",
        "linear_all_result.predict2566.hist(bins=100)"
      ],
      "metadata": {
        "colab": {
          "base_uri": "https://localhost:8080/",
          "height": 295
        },
        "id": "iEPeLF_IP6ZV",
        "outputId": "0633129e-4224-44ad-916e-317231e64bb5"
      },
      "execution_count": null,
      "outputs": [
        {
          "output_type": "execute_result",
          "data": {
            "text/plain": [
              "<matplotlib.axes._subplots.AxesSubplot at 0x7fa62260d9d0>"
            ]
          },
          "metadata": {},
          "execution_count": 161
        },
        {
          "output_type": "display_data",
          "data": {
            "text/plain": [
              "<Figure size 432x288 with 1 Axes>"
            ],
            "image/png": "[encoded data removed]"
          },
          "metadata": {
            "needs_background": "light"
          }
        }
      ]
    },
    {
      "cell_type": "markdown",
      "source": [
        "## Try linear regression model for all"
      ],
      "metadata": {
        "id": "NOoAsBlwrEa8"
      }
    },
    {
      "cell_type": "code",
      "source": [
        "linear_all_result.info()"
      ],
      "metadata": {
        "colab": {
          "base_uri": "https://localhost:8080/"
        },
        "id": "nDd8yJV6uqMO",
        "outputId": "fde41dc8-0cb9-4b81-e959-dcc806681ac9"
      },
      "execution_count": null,
      "outputs": [
        {
          "output_type": "stream",
          "name": "stdout",
          "text": [
            "<class 'pandas.core.frame.DataFrame'>\n",
            "RangeIndex: 2570 entries, 0 to 2569\n",
            "Data columns (total 6 columns):\n",
            " #   Column       Non-Null Count  Dtype  \n",
            "---  ------       --------------  -----  \n",
            " 0   Meditem      2570 non-null   object \n",
            " 1   slope        2570 non-null   float64\n",
            " 2   intercept    2570 non-null   float64\n",
            " 3   rmse         2570 non-null   float64\n",
            " 4   predict2566  2570 non-null   float64\n",
            " 5   cost_unit    2570 non-null   float64\n",
            "dtypes: float64(5), object(1)\n",
            "memory usage: 120.6+ KB\n"
          ]
        }
      ]
    },
    {
      "cell_type": "code",
      "source": [
        "linear_all_result.to_csv('/content/drive/MyDrive/medication_prediction_project/results/linear_regression_allmed.csv', index = False)"
      ],
      "metadata": {
        "id": "t5EK5QswsT4W"
      },
      "execution_count": null,
      "outputs": []
    },
    {
      "cell_type": "markdown",
      "source": [
        "# Montecarlo simulation"
      ],
      "metadata": {
        "id": "F0p8q2MMF2by"
      }
    },
    {
      "cell_type": "code",
      "source": [
        "linear_all_result.predict2566.hist(bins=30)\n",
        "plt.show()\n",
        "linear_all_result.rmse.hist(bins=30)\n",
        "plt.show()"
      ],
      "metadata": {
        "colab": {
          "base_uri": "https://localhost:8080/",
          "height": 531
        },
        "id": "4iqHp5xSFunX",
        "outputId": "6ca00c6c-0457-4d19-bc4a-8a21e565d340"
      },
      "execution_count": null,
      "outputs": [
        {
          "output_type": "display_data",
          "data": {
            "text/plain": [
              "<Figure size 432x288 with 1 Axes>"
            ],
            "image/png": "[encoded data removed]"
          },
          "metadata": {
            "needs_background": "light"
          }
        },
        {
          "output_type": "display_data",
          "data": {
            "text/plain": [
              "<Figure size 432x288 with 1 Axes>"
            ],
            "image/png": "[encoded data removed]"
          },
          "metadata": {
            "needs_background": "light"
          }
        }
      ]
    },
    {
      "cell_type": "code",
      "source": [
        "\"\"\"\n",
        "Price from predict2566/rmse\n",
        "\"\"\"\n",
        "\n",
        "budget2566 = linear_all_result[['Meditem','cost_unit', 'predict2566','rmse']].copy()\n",
        "budget2566"
      ],
      "metadata": {
        "id": "sekWbXHvGBqD",
        "colab": {
          "base_uri": "https://localhost:8080/",
          "height": 424
        },
        "outputId": "47d281df-981e-4818-eb29-eebb856d3914"
      },
      "execution_count": null,
      "outputs": [
        {
          "output_type": "execute_result",
          "data": {
            "text/plain": [
              "         Meditem  cost_unit   predict2566          rmse\n",
              "0              5       6.96  31026.800209  29409.366916\n",
              "1              6       1.50      0.000000      0.000000\n",
              "2              7     117.70      0.000000      0.000000\n",
              "3              8     321.00   4022.699972   2629.696958\n",
              "4             16      38.52  11818.699984   1094.883414\n",
              "...          ...        ...           ...           ...\n",
              "2565  5070000088      30.00      0.400000      0.800000\n",
              "2566  5070000090     100.00    204.800000     72.407734\n",
              "2567  5070000091      40.00      0.000000      0.000000\n",
              "2568  5070000093     250.00   1474.999999    520.856065\n",
              "2569  5070000095      38.20      0.600000      1.200000\n",
              "\n",
              "[2570 rows x 4 columns]"
            ],
            "text/html": [
              "\n",
              "  <div id=\"df-7e7e467a-fc25-44f3-bc17-4ed762f08afc\">\n",
              "    <div class=\"colab-df-container\">\n",
              "      <div>\n",
              "<style scoped>\n",
              "    .dataframe tbody tr th:only-of-type {\n",
              "        vertical-align: middle;\n",
              "    }\n",
              "\n",
              "    .dataframe tbody tr th {\n",
              "        vertical-align: top;\n",
              "    }\n",
              "\n",
              "    .dataframe thead th {\n",
              "        text-align: right;\n",
              "    }\n",
              "</style>\n",
              "<table border=\"1\" class=\"dataframe\">\n",
              "  <thead>\n",
              "    <tr style=\"text-align: right;\">\n",
              "      <th></th>\n",
              "      <th>Meditem</th>\n",
              "      <th>cost_unit</th>\n",
              "      <th>predict2566</th>\n",
              "      <th>rmse</th>\n",
              "    </tr>\n",
              "  </thead>\n",
              "  <tbody>\n",
              "    <tr>\n",
              "      <th>0</th>\n",
              "      <td>5</td>\n",
              "      <td>6.96</td>\n",
              "      <td>31026.800209</td>\n",
              "      <td>29409.366916</td>\n",
              "    </tr>\n",
              "    <tr>\n",
              "      <th>1</th>\n",
              "      <td>6</td>\n",
              "      <td>1.50</td>\n",
              "      <td>0.000000</td>\n",
              "      <td>0.000000</td>\n",
              "    </tr>\n",
              "    <tr>\n",
              "      <th>2</th>\n",
              "      <td>7</td>\n",
              "      <td>117.70</td>\n",
              "      <td>0.000000</td>\n",
              "      <td>0.000000</td>\n",
              "    </tr>\n",
              "    <tr>\n",
              "      <th>3</th>\n",
              "      <td>8</td>\n",
              "      <td>321.00</td>\n",
              "      <td>4022.699972</td>\n",
              "      <td>2629.696958</td>\n",
              "    </tr>\n",
              "    <tr>\n",
              "      <th>4</th>\n",
              "      <td>16</td>\n",
              "      <td>38.52</td>\n",
              "      <td>11818.699984</td>\n",
              "      <td>1094.883414</td>\n",
              "    </tr>\n",
              "    <tr>\n",
              "      <th>...</th>\n",
              "      <td>...</td>\n",
              "      <td>...</td>\n",
              "      <td>...</td>\n",
              "      <td>...</td>\n",
              "    </tr>\n",
              "    <tr>\n",
              "      <th>2565</th>\n",
              "      <td>5070000088</td>\n",
              "      <td>30.00</td>\n",
              "      <td>0.400000</td>\n",
              "      <td>0.800000</td>\n",
              "    </tr>\n",
              "    <tr>\n",
              "      <th>2566</th>\n",
              "      <td>5070000090</td>\n",
              "      <td>100.00</td>\n",
              "      <td>204.800000</td>\n",
              "      <td>72.407734</td>\n",
              "    </tr>\n",
              "    <tr>\n",
              "      <th>2567</th>\n",
              "      <td>5070000091</td>\n",
              "      <td>40.00</td>\n",
              "      <td>0.000000</td>\n",
              "      <td>0.000000</td>\n",
              "    </tr>\n",
              "    <tr>\n",
              "      <th>2568</th>\n",
              "      <td>5070000093</td>\n",
              "      <td>250.00</td>\n",
              "      <td>1474.999999</td>\n",
              "      <td>520.856065</td>\n",
              "    </tr>\n",
              "    <tr>\n",
              "      <th>2569</th>\n",
              "      <td>5070000095</td>\n",
              "      <td>38.20</td>\n",
              "      <td>0.600000</td>\n",
              "      <td>1.200000</td>\n",
              "    </tr>\n",
              "  </tbody>\n",
              "</table>\n",
              "<p>2570 rows × 4 columns</p>\n",
              "</div>\n",
              "      <button class=\"colab-df-convert\" onclick=\"convertToInteractive('df-7e7e467a-fc25-44f3-bc17-4ed762f08afc')\"\n",
              "              title=\"Convert this dataframe to an interactive table.\"\n",
              "              style=\"display:none;\">\n",
              "        \n",
              "  <svg xmlns=\"http://www.w3.org/2000/svg\" height=\"24px\"viewBox=\"0 0 24 24\"\n",
              "       width=\"24px\">\n",
              "    <path d=\"M0 0h24v24H0V0z\" fill=\"none\"/>\n",
              "    <path d=\"M18.56 5.44l.94 2.06.94-2.06 2.06-.94-2.06-.94-.94-2.06-.94 2.06-2.06.94zm-11 1L8.5 8.5l.94-2.06 2.06-.94-2.06-.94L8.5 2.5l-.94 2.06-2.06.94zm10 10l.94 2.06.94-2.06 2.06-.94-2.06-.94-.94-2.06-.94 2.06-2.06.94z\"/><path d=\"M17.41 7.96l-1.37-1.37c-.4-.4-.92-.59-1.43-.59-.52 0-1.04.2-1.43.59L10.3 9.45l-7.72 7.72c-.78.78-.78 2.05 0 2.83L4 21.41c.39.39.9.59 1.41.59.51 0 1.02-.2 1.41-.59l7.78-7.78 2.81-2.81c.8-.78.8-2.07 0-2.86zM5.41 20L4 18.59l7.72-7.72 1.47 1.35L5.41 20z\"/>\n",
              "  </svg>\n",
              "      </button>\n",
              "      \n",
              "  <style>\n",
              "    .colab-df-container {\n",
              "      display:flex;\n",
              "      flex-wrap:wrap;\n",
              "      gap: 12px;\n",
              "    }\n",
              "\n",
              "    .colab-df-convert {\n",
              "      background-color: #E8F0FE;\n",
              "      border: none;\n",
              "      border-radius: 50%;\n",
              "      cursor: pointer;\n",
              "      display: none;\n",
              "      fill: #1967D2;\n",
              "      height: 32px;\n",
              "      padding: 0 0 0 0;\n",
              "      width: 32px;\n",
              "    }\n",
              "\n",
              "    .colab-df-convert:hover {\n",
              "      background-color: #E2EBFA;\n",
              "      box-shadow: 0px 1px 2px rgba(60, 64, 67, 0.3), 0px 1px 3px 1px rgba(60, 64, 67, 0.15);\n",
              "      fill: #174EA6;\n",
              "    }\n",
              "\n",
              "    [theme=dark] .colab-df-convert {\n",
              "      background-color: #3B4455;\n",
              "      fill: #D2E3FC;\n",
              "    }\n",
              "\n",
              "    [theme=dark] .colab-df-convert:hover {\n",
              "      background-color: #434B5C;\n",
              "      box-shadow: 0px 1px 3px 1px rgba(0, 0, 0, 0.15);\n",
              "      filter: drop-shadow(0px 1px 2px rgba(0, 0, 0, 0.3));\n",
              "      fill: #FFFFFF;\n",
              "    }\n",
              "  </style>\n",
              "\n",
              "      <script>\n",
              "        const buttonEl =\n",
              "          document.querySelector('#df-7e7e467a-fc25-44f3-bc17-4ed762f08afc button.colab-df-convert');\n",
              "        buttonEl.style.display =\n",
              "          google.colab.kernel.accessAllowed ? 'block' : 'none';\n",
              "\n",
              "        async function convertToInteractive(key) {\n",
              "          const element = document.querySelector('#df-7e7e467a-fc25-44f3-bc17-4ed762f08afc');\n",
              "          const dataTable =\n",
              "            await google.colab.kernel.invokeFunction('convertToInteractive',\n",
              "                                                     [key], {});\n",
              "          if (!dataTable) return;\n",
              "\n",
              "          const docLinkHtml = 'Like what you see? Visit the ' +\n",
              "            '<a target=\"_blank\" href=https://colab.research.google.com/notebooks/data_table.ipynb>data table notebook</a>'\n",
              "            + ' to learn more about interactive tables.';\n",
              "          element.innerHTML = '';\n",
              "          dataTable['output_type'] = 'display_data';\n",
              "          await google.colab.output.renderOutput(dataTable, element);\n",
              "          const docLink = document.createElement('div');\n",
              "          docLink.innerHTML = docLinkHtml;\n",
              "          element.appendChild(docLink);\n",
              "        }\n",
              "      </script>\n",
              "    </div>\n",
              "  </div>\n",
              "  "
            ]
          },
          "metadata": {},
          "execution_count": 165
        }
      ]
    },
    {
      "cell_type": "code",
      "source": [
        "budget2566['cost2566_predict'] = budget2566.apply(lambda x: x['cost_unit']*x['predict2566'], axis=1)\n",
        "budget2566['cost2566_rmse'] = budget2566.apply(lambda x: x['cost_unit']*x['rmse'], axis=1)"
      ],
      "metadata": {
        "id": "BW7l05bVYmfw"
      },
      "execution_count": null,
      "outputs": []
    },
    {
      "cell_type": "code",
      "source": [
        "budget2566"
      ],
      "metadata": {
        "colab": {
          "base_uri": "https://localhost:8080/",
          "height": 424
        },
        "id": "OQ36sOwoZBEe",
        "outputId": "4f372257-758f-4347-b54a-49295097bbd9"
      },
      "execution_count": null,
      "outputs": [
        {
          "output_type": "execute_result",
          "data": {
            "text/plain": [
              "         Meditem  cost_unit   predict2566          rmse  cost2566_predict  \\\n",
              "0              5       6.96  31026.800209  29409.366916      2.159465e+05   \n",
              "1              6       1.50      0.000000      0.000000      0.000000e+00   \n",
              "2              7     117.70      0.000000      0.000000      0.000000e+00   \n",
              "3              8     321.00   4022.699972   2629.696958      1.291287e+06   \n",
              "4             16      38.52  11818.699984   1094.883414      4.552563e+05   \n",
              "...          ...        ...           ...           ...               ...   \n",
              "2565  5070000088      30.00      0.400000      0.800000      1.200000e+01   \n",
              "2566  5070000090     100.00    204.800000     72.407734      2.048000e+04   \n",
              "2567  5070000091      40.00      0.000000      0.000000      0.000000e+00   \n",
              "2568  5070000093     250.00   1474.999999    520.856065      3.687500e+05   \n",
              "2569  5070000095      38.20      0.600000      1.200000      2.292000e+01   \n",
              "\n",
              "      cost2566_rmse  \n",
              "0     204689.193738  \n",
              "1          0.000000  \n",
              "2          0.000000  \n",
              "3     844132.723582  \n",
              "4      42174.909123  \n",
              "...             ...  \n",
              "2565      24.000000  \n",
              "2566    7240.773439  \n",
              "2567       0.000000  \n",
              "2568  130214.016167  \n",
              "2569      45.840000  \n",
              "\n",
              "[2570 rows x 6 columns]"
            ],
            "text/html": [
              "\n",
              "  <div id=\"df-4ac15705-c52c-4305-b56b-fea92d19bc0d\">\n",
              "    <div class=\"colab-df-container\">\n",
              "      <div>\n",
              "<style scoped>\n",
              "    .dataframe tbody tr th:only-of-type {\n",
              "        vertical-align: middle;\n",
              "    }\n",
              "\n",
              "    .dataframe tbody tr th {\n",
              "        vertical-align: top;\n",
              "    }\n",
              "\n",
              "    .dataframe thead th {\n",
              "        text-align: right;\n",
              "    }\n",
              "</style>\n",
              "<table border=\"1\" class=\"dataframe\">\n",
              "  <thead>\n",
              "    <tr style=\"text-align: right;\">\n",
              "      <th></th>\n",
              "      <th>Meditem</th>\n",
              "      <th>cost_unit</th>\n",
              "      <th>predict2566</th>\n",
              "      <th>rmse</th>\n",
              "      <th>cost2566_predict</th>\n",
              "      <th>cost2566_rmse</th>\n",
              "    </tr>\n",
              "  </thead>\n",
              "  <tbody>\n",
              "    <tr>\n",
              "      <th>0</th>\n",
              "      <td>5</td>\n",
              "      <td>6.96</td>\n",
              "      <td>31026.800209</td>\n",
              "      <td>29409.366916</td>\n",
              "      <td>2.159465e+05</td>\n",
              "      <td>204689.193738</td>\n",
              "    </tr>\n",
              "    <tr>\n",
              "      <th>1</th>\n",
              "      <td>6</td>\n",
              "      <td>1.50</td>\n",
              "      <td>0.000000</td>\n",
              "      <td>0.000000</td>\n",
              "      <td>0.000000e+00</td>\n",
              "      <td>0.000000</td>\n",
              "    </tr>\n",
              "    <tr>\n",
              "      <th>2</th>\n",
              "      <td>7</td>\n",
              "      <td>117.70</td>\n",
              "      <td>0.000000</td>\n",
              "      <td>0.000000</td>\n",
              "      <td>0.000000e+00</td>\n",
              "      <td>0.000000</td>\n",
              "    </tr>\n",
              "    <tr>\n",
              "      <th>3</th>\n",
              "      <td>8</td>\n",
              "      <td>321.00</td>\n",
              "      <td>4022.699972</td>\n",
              "      <td>2629.696958</td>\n",
              "      <td>1.291287e+06</td>\n",
              "      <td>844132.723582</td>\n",
              "    </tr>\n",
              "    <tr>\n",
              "      <th>4</th>\n",
              "      <td>16</td>\n",
              "      <td>38.52</td>\n",
              "      <td>11818.699984</td>\n",
              "      <td>1094.883414</td>\n",
              "      <td>4.552563e+05</td>\n",
              "      <td>42174.909123</td>\n",
              "    </tr>\n",
              "    <tr>\n",
              "      <th>...</th>\n",
              "      <td>...</td>\n",
              "      <td>...</td>\n",
              "      <td>...</td>\n",
              "      <td>...</td>\n",
              "      <td>...</td>\n",
              "      <td>...</td>\n",
              "    </tr>\n",
              "    <tr>\n",
              "      <th>2565</th>\n",
              "      <td>5070000088</td>\n",
              "      <td>30.00</td>\n",
              "      <td>0.400000</td>\n",
              "      <td>0.800000</td>\n",
              "      <td>1.200000e+01</td>\n",
              "      <td>24.000000</td>\n",
              "    </tr>\n",
              "    <tr>\n",
              "      <th>2566</th>\n",
              "      <td>5070000090</td>\n",
              "      <td>100.00</td>\n",
              "      <td>204.800000</td>\n",
              "      <td>72.407734</td>\n",
              "      <td>2.048000e+04</td>\n",
              "      <td>7240.773439</td>\n",
              "    </tr>\n",
              "    <tr>\n",
              "      <th>2567</th>\n",
              "      <td>5070000091</td>\n",
              "      <td>40.00</td>\n",
              "      <td>0.000000</td>\n",
              "      <td>0.000000</td>\n",
              "      <td>0.000000e+00</td>\n",
              "      <td>0.000000</td>\n",
              "    </tr>\n",
              "    <tr>\n",
              "      <th>2568</th>\n",
              "      <td>5070000093</td>\n",
              "      <td>250.00</td>\n",
              "      <td>1474.999999</td>\n",
              "      <td>520.856065</td>\n",
              "      <td>3.687500e+05</td>\n",
              "      <td>130214.016167</td>\n",
              "    </tr>\n",
              "    <tr>\n",
              "      <th>2569</th>\n",
              "      <td>5070000095</td>\n",
              "      <td>38.20</td>\n",
              "      <td>0.600000</td>\n",
              "      <td>1.200000</td>\n",
              "      <td>2.292000e+01</td>\n",
              "      <td>45.840000</td>\n",
              "    </tr>\n",
              "  </tbody>\n",
              "</table>\n",
              "<p>2570 rows × 6 columns</p>\n",
              "</div>\n",
              "      <button class=\"colab-df-convert\" onclick=\"convertToInteractive('df-4ac15705-c52c-4305-b56b-fea92d19bc0d')\"\n",
              "              title=\"Convert this dataframe to an interactive table.\"\n",
              "              style=\"display:none;\">\n",
              "        \n",
              "  <svg xmlns=\"http://www.w3.org/2000/svg\" height=\"24px\"viewBox=\"0 0 24 24\"\n",
              "       width=\"24px\">\n",
              "    <path d=\"M0 0h24v24H0V0z\" fill=\"none\"/>\n",
              "    <path d=\"M18.56 5.44l.94 2.06.94-2.06 2.06-.94-2.06-.94-.94-2.06-.94 2.06-2.06.94zm-11 1L8.5 8.5l.94-2.06 2.06-.94-2.06-.94L8.5 2.5l-.94 2.06-2.06.94zm10 10l.94 2.06.94-2.06 2.06-.94-2.06-.94-.94-2.06-.94 2.06-2.06.94z\"/><path d=\"M17.41 7.96l-1.37-1.37c-.4-.4-.92-.59-1.43-.59-.52 0-1.04.2-1.43.59L10.3 9.45l-7.72 7.72c-.78.78-.78 2.05 0 2.83L4 21.41c.39.39.9.59 1.41.59.51 0 1.02-.2 1.41-.59l7.78-7.78 2.81-2.81c.8-.78.8-2.07 0-2.86zM5.41 20L4 18.59l7.72-7.72 1.47 1.35L5.41 20z\"/>\n",
              "  </svg>\n",
              "      </button>\n",
              "      \n",
              "  <style>\n",
              "    .colab-df-container {\n",
              "      display:flex;\n",
              "      flex-wrap:wrap;\n",
              "      gap: 12px;\n",
              "    }\n",
              "\n",
              "    .colab-df-convert {\n",
              "      background-color: #E8F0FE;\n",
              "      border: none;\n",
              "      border-radius: 50%;\n",
              "      cursor: pointer;\n",
              "      display: none;\n",
              "      fill: #1967D2;\n",
              "      height: 32px;\n",
              "      padding: 0 0 0 0;\n",
              "      width: 32px;\n",
              "    }\n",
              "\n",
              "    .colab-df-convert:hover {\n",
              "      background-color: #E2EBFA;\n",
              "      box-shadow: 0px 1px 2px rgba(60, 64, 67, 0.3), 0px 1px 3px 1px rgba(60, 64, 67, 0.15);\n",
              "      fill: #174EA6;\n",
              "    }\n",
              "\n",
              "    [theme=dark] .colab-df-convert {\n",
              "      background-color: #3B4455;\n",
              "      fill: #D2E3FC;\n",
              "    }\n",
              "\n",
              "    [theme=dark] .colab-df-convert:hover {\n",
              "      background-color: #434B5C;\n",
              "      box-shadow: 0px 1px 3px 1px rgba(0, 0, 0, 0.15);\n",
              "      filter: drop-shadow(0px 1px 2px rgba(0, 0, 0, 0.3));\n",
              "      fill: #FFFFFF;\n",
              "    }\n",
              "  </style>\n",
              "\n",
              "      <script>\n",
              "        const buttonEl =\n",
              "          document.querySelector('#df-4ac15705-c52c-4305-b56b-fea92d19bc0d button.colab-df-convert');\n",
              "        buttonEl.style.display =\n",
              "          google.colab.kernel.accessAllowed ? 'block' : 'none';\n",
              "\n",
              "        async function convertToInteractive(key) {\n",
              "          const element = document.querySelector('#df-4ac15705-c52c-4305-b56b-fea92d19bc0d');\n",
              "          const dataTable =\n",
              "            await google.colab.kernel.invokeFunction('convertToInteractive',\n",
              "                                                     [key], {});\n",
              "          if (!dataTable) return;\n",
              "\n",
              "          const docLinkHtml = 'Like what you see? Visit the ' +\n",
              "            '<a target=\"_blank\" href=https://colab.research.google.com/notebooks/data_table.ipynb>data table notebook</a>'\n",
              "            + ' to learn more about interactive tables.';\n",
              "          element.innerHTML = '';\n",
              "          dataTable['output_type'] = 'display_data';\n",
              "          await google.colab.output.renderOutput(dataTable, element);\n",
              "          const docLink = document.createElement('div');\n",
              "          docLink.innerHTML = docLinkHtml;\n",
              "          element.appendChild(docLink);\n",
              "        }\n",
              "      </script>\n",
              "    </div>\n",
              "  </div>\n",
              "  "
            ]
          },
          "metadata": {},
          "execution_count": 167
        }
      ]
    },
    {
      "cell_type": "code",
      "source": [
        "print(f'predicting average of budget in 2566 = {round(budget2566.cost2566_predict.sum(),2)}')"
      ],
      "metadata": {
        "colab": {
          "base_uri": "https://localhost:8080/"
        },
        "id": "wn1lMLqhv6oT",
        "outputId": "8ee13095-da4a-450d-f9f0-0964770d5b5e"
      },
      "execution_count": null,
      "outputs": [
        {
          "output_type": "stream",
          "name": "stdout",
          "text": [
            "predicting average of budget in 2566 = 1415687562.09\n"
          ]
        }
      ]
    },
    {
      "cell_type": "code",
      "source": [
        "\"\"\"\n",
        "Montecarlo simulation\n",
        "2570 drugs with vary cost by RMSE_price\n",
        "\"\"\"\n",
        "\n",
        "\n",
        "#check executing time\n",
        "start_time = time.time()\n",
        "\n",
        "#declare variables\n",
        "simulations = 100000\n",
        "num_drugs = budget2566.shape[0]\n",
        "np.random.seed(911)\n",
        "\n",
        "#turn data to numpy array for speeding\n",
        "costdata = budget2566[['cost2566_predict','cost2566_rmse']].values\n",
        "#2d-np array\n",
        "\n",
        "#np array to collect result each simulation\n",
        "simulation_cost = np.zeros((simulations,1))\n",
        "\n",
        "#run\n",
        "for iteration in range(simulations):\n",
        "  if iteration%5000 == 0:\n",
        "    print(iteration)\n",
        "  \n",
        "  total_cost = np.zeros((num_drugs,1))\n",
        "\n",
        "  for i in range(num_drugs):\n",
        "    #vary input\n",
        "    mu, std_error = costdata[i,0], costdata[i,1]\n",
        "    cost_i = np.abs(np.random.normal(loc = mu, scale = std_error, size = None)) #None -> 1 value\n",
        "    total_cost[i] = cost_i\n",
        "  \n",
        "  # function = sum\n",
        "  simulation_cost[iteration] = np.sum(total_cost)\n",
        "\n",
        "print('finished')\n",
        "print(\"--- %s seconds ---\" % (time.time() - start_time))"
      ],
      "metadata": {
        "colab": {
          "base_uri": "https://localhost:8080/"
        },
        "id": "xotwxMhoZUqo",
        "outputId": "9ba04d56-8761-4855-859e-0e19d296b690"
      },
      "execution_count": null,
      "outputs": [
        {
          "output_type": "stream",
          "name": "stdout",
          "text": [
            "0\n",
            "5000\n",
            "10000\n",
            "15000\n",
            "20000\n",
            "25000\n",
            "30000\n",
            "35000\n",
            "40000\n",
            "45000\n",
            "50000\n",
            "55000\n",
            "60000\n",
            "65000\n",
            "70000\n",
            "75000\n",
            "80000\n",
            "85000\n",
            "90000\n",
            "95000\n",
            "finished\n",
            "--- 1371.0721626281738 seconds ---\n"
          ]
        }
      ]
    },
    {
      "cell_type": "code",
      "source": [
        "plt.hist(simulation_cost, bins=30)"
      ],
      "metadata": {
        "colab": {
          "base_uri": "https://localhost:8080/",
          "height": 538
        },
        "id": "2vOfyPJua0e7",
        "outputId": "a81d335e-a819-432d-d1cf-11769d0bbc25"
      },
      "execution_count": null,
      "outputs": [
        {
          "output_type": "execute_result",
          "data": {
            "text/plain": [
              "(array([4.0000e+00, 1.5000e+01, 4.9000e+01, 9.6000e+01, 2.1100e+02,\n",
              "        5.1800e+02, 9.9000e+02, 1.7050e+03, 2.9680e+03, 4.5100e+03,\n",
              "        6.4370e+03, 8.4460e+03, 9.9750e+03, 1.1111e+04, 1.1110e+04,\n",
              "        1.0497e+04, 9.2590e+03, 7.3820e+03, 5.5710e+03, 3.7550e+03,\n",
              "        2.4840e+03, 1.4100e+03, 7.8800e+02, 3.6200e+02, 2.1100e+02,\n",
              "        8.6000e+01, 2.5000e+01, 1.6000e+01, 5.0000e+00, 4.0000e+00]),\n",
              " array([1.38628607e+09, 1.38955211e+09, 1.39281816e+09, 1.39608420e+09,\n",
              "        1.39935025e+09, 1.40261629e+09, 1.40588234e+09, 1.40914838e+09,\n",
              "        1.41241443e+09, 1.41568047e+09, 1.41894652e+09, 1.42221256e+09,\n",
              "        1.42547861e+09, 1.42874465e+09, 1.43201070e+09, 1.43527674e+09,\n",
              "        1.43854279e+09, 1.44180883e+09, 1.44507488e+09, 1.44834092e+09,\n",
              "        1.45160697e+09, 1.45487301e+09, 1.45813906e+09, 1.46140510e+09,\n",
              "        1.46467115e+09, 1.46793719e+09, 1.47120323e+09, 1.47446928e+09,\n",
              "        1.47773532e+09, 1.48100137e+09, 1.48426741e+09]),\n",
              " <a list of 30 Patch objects>)"
            ]
          },
          "metadata": {},
          "execution_count": 171
        },
        {
          "output_type": "display_data",
          "data": {
            "text/plain": [
              "<Figure size 432x288 with 1 Axes>"
            ],
            "image/png": "[encoded data removed]"
          },
          "metadata": {
            "needs_background": "light"
          }
        }
      ]
    },
    {
      "cell_type": "code",
      "source": [
        "budget2566.cost2566_predict.sum()"
      ],
      "metadata": {
        "colab": {
          "base_uri": "https://localhost:8080/"
        },
        "id": "zV5lZ8UXa4T7",
        "outputId": "bfa48d1c-67bf-4591-909d-2b69b66362ae"
      },
      "execution_count": null,
      "outputs": [
        {
          "output_type": "execute_result",
          "data": {
            "text/plain": [
              "1415687562.090982"
            ]
          },
          "metadata": {},
          "execution_count": 172
        }
      ]
    },
    {
      "cell_type": "markdown",
      "source": [
        "# Save and Report"
      ],
      "metadata": {
        "id": "5kVFJh4gnxEm"
      }
    },
    {
      "cell_type": "code",
      "source": [
        "#save simulation to csv file\n",
        "simulation_cost.tofile('/content/drive/MyDrive/medication_prediction_project/results/cost_medication_2566_prediction_montecarlo.csv', sep = ',')"
      ],
      "metadata": {
        "id": "blKSwDPBnVyT"
      },
      "execution_count": null,
      "outputs": []
    },
    {
      "cell_type": "code",
      "source": [
        "#save simulation to text file\n",
        "np.savetxt('/content/drive/MyDrive/medication_prediction_project/results/cost_medication_2566_prediction_montecarlo.txt',simulation_cost )"
      ],
      "metadata": {
        "id": "3aLbLegd1XUx"
      },
      "execution_count": null,
      "outputs": []
    },
    {
      "cell_type": "code",
      "source": [
        "df"
      ],
      "metadata": {
        "colab": {
          "base_uri": "https://localhost:8080/",
          "height": 765
        },
        "id": "RcCrKXHHoT4y",
        "outputId": "e6f5eb8b-47c1-40f3-94ce-82e9932b3cd1"
      },
      "execution_count": null,
      "outputs": [
        {
          "output_type": "execute_result",
          "data": {
            "text/plain": [
              "      index     Meditem  Medtype                           Medname  Medcost  \\\n",
              "0         0           5       10      IRBESARTAN (APROVEL) 150 MG.     6.96   \n",
              "1         1           6       10  HY-DRALAZINE (APRESOLINE) 25 MG.     1.50   \n",
              "2         2           7       40             CISPLATIN (CA) 10 MG.   117.70   \n",
              "3         3           8       40             CISPLATIN (CA) 50 MG.   321.00   \n",
              "4         4          16       10                   ACETAR 1000 ML.    38.52   \n",
              "...     ...         ...      ...                               ...      ...   \n",
              "2565   2571  5070000088       70      Sodium Bicarb (30mL) 1meq/mL    30.00   \n",
              "2566   2572  5070000090       70                Fluoride (100G) 1%   100.00   \n",
              "2567   2573  5070000091       70          Phenobarb (30mL) 10mg/mL    40.00   \n",
              "2568   2574  5070000093       70      Favipiravir [30mL] 100 mg/mL   250.00   \n",
              "2569   2575  5070000095       70        PredNisolone (30mL) 1mg/mL    38.20   \n",
              "\n",
              "     LastEffctiveDate  Med2561  Med2562  Med2563  Med2564  Med2565  \n",
              "0          2017-05-17    94583   130216   115275    96186    13417  \n",
              "1          2012-08-20  1202588        0    40012        0        0  \n",
              "2          2015-11-27      506      478      883        0        0  \n",
              "3          2022-04-26      520      936     7977     2053     2128  \n",
              "4          2022-09-07      499      606     3347     5939    10550  \n",
              "...               ...      ...      ...      ...      ...      ...  \n",
              "2565       2021-12-07        0        0        2        0        0  \n",
              "2566       2021-12-07        0        0        0        0      256  \n",
              "2567       2021-12-09        0        0        0        0        0  \n",
              "2568       2022-12-07        0        0        3        0     1843  \n",
              "2569       2022-09-22        0        0        3        0        0  \n",
              "\n",
              "[2570 rows x 11 columns]"
            ],
            "text/html": [
              "\n",
              "  <div id=\"df-54c9693d-6d8a-415a-8bd7-ba34bf03cfc1\">\n",
              "    <div class=\"colab-df-container\">\n",
              "      <div>\n",
              "<style scoped>\n",
              "    .dataframe tbody tr th:only-of-type {\n",
              "        vertical-align: middle;\n",
              "    }\n",
              "\n",
              "    .dataframe tbody tr th {\n",
              "        vertical-align: top;\n",
              "    }\n",
              "\n",
              "    .dataframe thead th {\n",
              "        text-align: right;\n",
              "    }\n",
              "</style>\n",
              "<table border=\"1\" class=\"dataframe\">\n",
              "  <thead>\n",
              "    <tr style=\"text-align: right;\">\n",
              "      <th></th>\n",
              "      <th>index</th>\n",
              "      <th>Meditem</th>\n",
              "      <th>Medtype</th>\n",
              "      <th>Medname</th>\n",
              "      <th>Medcost</th>\n",
              "      <th>LastEffctiveDate</th>\n",
              "      <th>Med2561</th>\n",
              "      <th>Med2562</th>\n",
              "      <th>Med2563</th>\n",
              "      <th>Med2564</th>\n",
              "      <th>Med2565</th>\n",
              "    </tr>\n",
              "  </thead>\n",
              "  <tbody>\n",
              "    <tr>\n",
              "      <th>0</th>\n",
              "      <td>0</td>\n",
              "      <td>5</td>\n",
              "      <td>10</td>\n",
              "      <td>IRBESARTAN (APROVEL) 150 MG.</td>\n",
              "      <td>6.96</td>\n",
              "      <td>2017-05-17</td>\n",
              "      <td>94583</td>\n",
              "      <td>130216</td>\n",
              "      <td>115275</td>\n",
              "      <td>96186</td>\n",
              "      <td>13417</td>\n",
              "    </tr>\n",
              "    <tr>\n",
              "      <th>1</th>\n",
              "      <td>1</td>\n",
              "      <td>6</td>\n",
              "      <td>10</td>\n",
              "      <td>HY-DRALAZINE (APRESOLINE) 25 MG.</td>\n",
              "      <td>1.50</td>\n",
              "      <td>2012-08-20</td>\n",
              "      <td>1202588</td>\n",
              "      <td>0</td>\n",
              "      <td>40012</td>\n",
              "      <td>0</td>\n",
              "      <td>0</td>\n",
              "    </tr>\n",
              "    <tr>\n",
              "      <th>2</th>\n",
              "      <td>2</td>\n",
              "      <td>7</td>\n",
              "      <td>40</td>\n",
              "      <td>CISPLATIN (CA) 10 MG.</td>\n",
              "      <td>117.70</td>\n",
              "      <td>2015-11-27</td>\n",
              "      <td>506</td>\n",
              "      <td>478</td>\n",
              "      <td>883</td>\n",
              "      <td>0</td>\n",
              "      <td>0</td>\n",
              "    </tr>\n",
              "    <tr>\n",
              "      <th>3</th>\n",
              "      <td>3</td>\n",
              "      <td>8</td>\n",
              "      <td>40</td>\n",
              "      <td>CISPLATIN (CA) 50 MG.</td>\n",
              "      <td>321.00</td>\n",
              "      <td>2022-04-26</td>\n",
              "      <td>520</td>\n",
              "      <td>936</td>\n",
              "      <td>7977</td>\n",
              "      <td>2053</td>\n",
              "      <td>2128</td>\n",
              "    </tr>\n",
              "    <tr>\n",
              "      <th>4</th>\n",
              "      <td>4</td>\n",
              "      <td>16</td>\n",
              "      <td>10</td>\n",
              "      <td>ACETAR 1000 ML.</td>\n",
              "      <td>38.52</td>\n",
              "      <td>2022-09-07</td>\n",
              "      <td>499</td>\n",
              "      <td>606</td>\n",
              "      <td>3347</td>\n",
              "      <td>5939</td>\n",
              "      <td>10550</td>\n",
              "    </tr>\n",
              "    <tr>\n",
              "      <th>...</th>\n",
              "      <td>...</td>\n",
              "      <td>...</td>\n",
              "      <td>...</td>\n",
              "      <td>...</td>\n",
              "      <td>...</td>\n",
              "      <td>...</td>\n",
              "      <td>...</td>\n",
              "      <td>...</td>\n",
              "      <td>...</td>\n",
              "      <td>...</td>\n",
              "      <td>...</td>\n",
              "    </tr>\n",
              "    <tr>\n",
              "      <th>2565</th>\n",
              "      <td>2571</td>\n",
              "      <td>5070000088</td>\n",
              "      <td>70</td>\n",
              "      <td>Sodium Bicarb (30mL) 1meq/mL</td>\n",
              "      <td>30.00</td>\n",
              "      <td>2021-12-07</td>\n",
              "      <td>0</td>\n",
              "      <td>0</td>\n",
              "      <td>2</td>\n",
              "      <td>0</td>\n",
              "      <td>0</td>\n",
              "    </tr>\n",
              "    <tr>\n",
              "      <th>2566</th>\n",
              "      <td>2572</td>\n",
              "      <td>5070000090</td>\n",
              "      <td>70</td>\n",
              "      <td>Fluoride (100G) 1%</td>\n",
              "      <td>100.00</td>\n",
              "      <td>2021-12-07</td>\n",
              "      <td>0</td>\n",
              "      <td>0</td>\n",
              "      <td>0</td>\n",
              "      <td>0</td>\n",
              "      <td>256</td>\n",
              "    </tr>\n",
              "    <tr>\n",
              "      <th>2567</th>\n",
              "      <td>2573</td>\n",
              "      <td>5070000091</td>\n",
              "      <td>70</td>\n",
              "      <td>Phenobarb (30mL) 10mg/mL</td>\n",
              "      <td>40.00</td>\n",
              "      <td>2021-12-09</td>\n",
              "      <td>0</td>\n",
              "      <td>0</td>\n",
              "      <td>0</td>\n",
              "      <td>0</td>\n",
              "      <td>0</td>\n",
              "    </tr>\n",
              "    <tr>\n",
              "      <th>2568</th>\n",
              "      <td>2574</td>\n",
              "      <td>5070000093</td>\n",
              "      <td>70</td>\n",
              "      <td>Favipiravir [30mL] 100 mg/mL</td>\n",
              "      <td>250.00</td>\n",
              "      <td>2022-12-07</td>\n",
              "      <td>0</td>\n",
              "      <td>0</td>\n",
              "      <td>3</td>\n",
              "      <td>0</td>\n",
              "      <td>1843</td>\n",
              "    </tr>\n",
              "    <tr>\n",
              "      <th>2569</th>\n",
              "      <td>2575</td>\n",
              "      <td>5070000095</td>\n",
              "      <td>70</td>\n",
              "      <td>PredNisolone (30mL) 1mg/mL</td>\n",
              "      <td>38.20</td>\n",
              "      <td>2022-09-22</td>\n",
              "      <td>0</td>\n",
              "      <td>0</td>\n",
              "      <td>3</td>\n",
              "      <td>0</td>\n",
              "      <td>0</td>\n",
              "    </tr>\n",
              "  </tbody>\n",
              "</table>\n",
              "<p>2570 rows × 11 columns</p>\n",
              "</div>\n",
              "      <button class=\"colab-df-convert\" onclick=\"convertToInteractive('df-54c9693d-6d8a-415a-8bd7-ba34bf03cfc1')\"\n",
              "              title=\"Convert this dataframe to an interactive table.\"\n",
              "              style=\"display:none;\">\n",
              "        \n",
              "  <svg xmlns=\"http://www.w3.org/2000/svg\" height=\"24px\"viewBox=\"0 0 24 24\"\n",
              "       width=\"24px\">\n",
              "    <path d=\"M0 0h24v24H0V0z\" fill=\"none\"/>\n",
              "    <path d=\"M18.56 5.44l.94 2.06.94-2.06 2.06-.94-2.06-.94-.94-2.06-.94 2.06-2.06.94zm-11 1L8.5 8.5l.94-2.06 2.06-.94-2.06-.94L8.5 2.5l-.94 2.06-2.06.94zm10 10l.94 2.06.94-2.06 2.06-.94-2.06-.94-.94-2.06-.94 2.06-2.06.94z\"/><path d=\"M17.41 7.96l-1.37-1.37c-.4-.4-.92-.59-1.43-.59-.52 0-1.04.2-1.43.59L10.3 9.45l-7.72 7.72c-.78.78-.78 2.05 0 2.83L4 21.41c.39.39.9.59 1.41.59.51 0 1.02-.2 1.41-.59l7.78-7.78 2.81-2.81c.8-.78.8-2.07 0-2.86zM5.41 20L4 18.59l7.72-7.72 1.47 1.35L5.41 20z\"/>\n",
              "  </svg>\n",
              "      </button>\n",
              "      \n",
              "  <style>\n",
              "    .colab-df-container {\n",
              "      display:flex;\n",
              "      flex-wrap:wrap;\n",
              "      gap: 12px;\n",
              "    }\n",
              "\n",
              "    .colab-df-convert {\n",
              "      background-color: #E8F0FE;\n",
              "      border: none;\n",
              "      border-radius: 50%;\n",
              "      cursor: pointer;\n",
              "      display: none;\n",
              "      fill: #1967D2;\n",
              "      height: 32px;\n",
              "      padding: 0 0 0 0;\n",
              "      width: 32px;\n",
              "    }\n",
              "\n",
              "    .colab-df-convert:hover {\n",
              "      background-color: #E2EBFA;\n",
              "      box-shadow: 0px 1px 2px rgba(60, 64, 67, 0.3), 0px 1px 3px 1px rgba(60, 64, 67, 0.15);\n",
              "      fill: #174EA6;\n",
              "    }\n",
              "\n",
              "    [theme=dark] .colab-df-convert {\n",
              "      background-color: #3B4455;\n",
              "      fill: #D2E3FC;\n",
              "    }\n",
              "\n",
              "    [theme=dark] .colab-df-convert:hover {\n",
              "      background-color: #434B5C;\n",
              "      box-shadow: 0px 1px 3px 1px rgba(0, 0, 0, 0.15);\n",
              "      filter: drop-shadow(0px 1px 2px rgba(0, 0, 0, 0.3));\n",
              "      fill: #FFFFFF;\n",
              "    }\n",
              "  </style>\n",
              "\n",
              "      <script>\n",
              "        const buttonEl =\n",
              "          document.querySelector('#df-54c9693d-6d8a-415a-8bd7-ba34bf03cfc1 button.colab-df-convert');\n",
              "        buttonEl.style.display =\n",
              "          google.colab.kernel.accessAllowed ? 'block' : 'none';\n",
              "\n",
              "        async function convertToInteractive(key) {\n",
              "          const element = document.querySelector('#df-54c9693d-6d8a-415a-8bd7-ba34bf03cfc1');\n",
              "          const dataTable =\n",
              "            await google.colab.kernel.invokeFunction('convertToInteractive',\n",
              "                                                     [key], {});\n",
              "          if (!dataTable) return;\n",
              "\n",
              "          const docLinkHtml = 'Like what you see? Visit the ' +\n",
              "            '<a target=\"_blank\" href=https://colab.research.google.com/notebooks/data_table.ipynb>data table notebook</a>'\n",
              "            + ' to learn more about interactive tables.';\n",
              "          element.innerHTML = '';\n",
              "          dataTable['output_type'] = 'display_data';\n",
              "          await google.colab.output.renderOutput(dataTable, element);\n",
              "          const docLink = document.createElement('div');\n",
              "          docLink.innerHTML = docLinkHtml;\n",
              "          element.appendChild(docLink);\n",
              "        }\n",
              "      </script>\n",
              "    </div>\n",
              "  </div>\n",
              "  "
            ]
          },
          "metadata": {},
          "execution_count": 133
        }
      ]
    },
    {
      "cell_type": "code",
      "source": [
        "temp = budget2566[['Meditem','predict2566','rmse','cost2566_predict','cost2566_rmse']].copy()\n",
        "temp = temp.set_index('Meditem')\n",
        "ndf = df.set_index('Meditem').join(temp).reset_index()"
      ],
      "metadata": {
        "id": "xM9ws7oKwPkM"
      },
      "execution_count": null,
      "outputs": []
    },
    {
      "cell_type": "code",
      "source": [
        "ndf.drop('index', axis=1, inplace = True)"
      ],
      "metadata": {
        "id": "fe2emv5W21HO"
      },
      "execution_count": null,
      "outputs": []
    },
    {
      "cell_type": "code",
      "source": [
        "ndf\n"
      ],
      "metadata": {
        "colab": {
          "base_uri": "https://localhost:8080/",
          "height": 765
        },
        "id": "X9ap2bqm3Uqm",
        "outputId": "a9bcb994-1822-4343-d9cd-efdf4875803e"
      },
      "execution_count": null,
      "outputs": [
        {
          "output_type": "execute_result",
          "data": {
            "text/plain": [
              "         Meditem  Medtype                           Medname  Medcost  \\\n",
              "0              5       10      IRBESARTAN (APROVEL) 150 MG.     6.96   \n",
              "1              6       10  HY-DRALAZINE (APRESOLINE) 25 MG.     1.50   \n",
              "2              7       40             CISPLATIN (CA) 10 MG.   117.70   \n",
              "3              8       40             CISPLATIN (CA) 50 MG.   321.00   \n",
              "4             16       10                   ACETAR 1000 ML.    38.52   \n",
              "...          ...      ...                               ...      ...   \n",
              "2565  5070000088       70      Sodium Bicarb (30mL) 1meq/mL    30.00   \n",
              "2566  5070000090       70                Fluoride (100G) 1%   100.00   \n",
              "2567  5070000091       70          Phenobarb (30mL) 10mg/mL    40.00   \n",
              "2568  5070000093       70      Favipiravir [30mL] 100 mg/mL   250.00   \n",
              "2569  5070000095       70        PredNisolone (30mL) 1mg/mL    38.20   \n",
              "\n",
              "     LastEffctiveDate  Med2561  Med2562  Med2563  Med2564  Med2565  \\\n",
              "0          2017-05-17    94583   130216   115275    96186    13417   \n",
              "1          2012-08-20  1202588        0    40012        0        0   \n",
              "2          2015-11-27      506      478      883        0        0   \n",
              "3          2022-04-26      520      936     7977     2053     2128   \n",
              "4          2022-09-07      499      606     3347     5939    10550   \n",
              "...               ...      ...      ...      ...      ...      ...   \n",
              "2565       2021-12-07        0        0        2        0        0   \n",
              "2566       2021-12-07        0        0        0        0      256   \n",
              "2567       2021-12-09        0        0        0        0        0   \n",
              "2568       2022-12-07        0        0        3        0     1843   \n",
              "2569       2022-09-22        0        0        3        0        0   \n",
              "\n",
              "       predict2566          rmse  cost2566_predict  cost2566_rmse  \n",
              "0     31026.800209  29409.366916      2.159465e+05  204689.193738  \n",
              "1         0.000000      0.000000      0.000000e+00       0.000000  \n",
              "2         0.000000      0.000000      0.000000e+00       0.000000  \n",
              "3      4022.699972   2629.696958      1.291287e+06  844132.723582  \n",
              "4     11818.699984   1094.883414      4.552563e+05   42174.909123  \n",
              "...            ...           ...               ...            ...  \n",
              "2565      0.400000      0.800000      1.200000e+01      24.000000  \n",
              "2566    204.800000     72.407734      2.048000e+04    7240.773439  \n",
              "2567      0.000000      0.000000      0.000000e+00       0.000000  \n",
              "2568   1474.999999    520.856065      3.687500e+05  130214.016167  \n",
              "2569      0.600000      1.200000      2.292000e+01      45.840000  \n",
              "\n",
              "[2570 rows x 14 columns]"
            ],
            "text/html": [
              "\n",
              "  <div id=\"df-299eac64-fbe6-49b8-abb9-493c6d02fe0c\">\n",
              "    <div class=\"colab-df-container\">\n",
              "      <div>\n",
              "<style scoped>\n",
              "    .dataframe tbody tr th:only-of-type {\n",
              "        vertical-align: middle;\n",
              "    }\n",
              "\n",
              "    .dataframe tbody tr th {\n",
              "        vertical-align: top;\n",
              "    }\n",
              "\n",
              "    .dataframe thead th {\n",
              "        text-align: right;\n",
              "    }\n",
              "</style>\n",
              "<table border=\"1\" class=\"dataframe\">\n",
              "  <thead>\n",
              "    <tr style=\"text-align: right;\">\n",
              "      <th></th>\n",
              "      <th>Meditem</th>\n",
              "      <th>Medtype</th>\n",
              "      <th>Medname</th>\n",
              "      <th>Medcost</th>\n",
              "      <th>LastEffctiveDate</th>\n",
              "      <th>Med2561</th>\n",
              "      <th>Med2562</th>\n",
              "      <th>Med2563</th>\n",
              "      <th>Med2564</th>\n",
              "      <th>Med2565</th>\n",
              "      <th>predict2566</th>\n",
              "      <th>rmse</th>\n",
              "      <th>cost2566_predict</th>\n",
              "      <th>cost2566_rmse</th>\n",
              "    </tr>\n",
              "  </thead>\n",
              "  <tbody>\n",
              "    <tr>\n",
              "      <th>0</th>\n",
              "      <td>5</td>\n",
              "      <td>10</td>\n",
              "      <td>IRBESARTAN (APROVEL) 150 MG.</td>\n",
              "      <td>6.96</td>\n",
              "      <td>2017-05-17</td>\n",
              "      <td>94583</td>\n",
              "      <td>130216</td>\n",
              "      <td>115275</td>\n",
              "      <td>96186</td>\n",
              "      <td>13417</td>\n",
              "      <td>31026.800209</td>\n",
              "      <td>29409.366916</td>\n",
              "      <td>2.159465e+05</td>\n",
              "      <td>204689.193738</td>\n",
              "    </tr>\n",
              "    <tr>\n",
              "      <th>1</th>\n",
              "      <td>6</td>\n",
              "      <td>10</td>\n",
              "      <td>HY-DRALAZINE (APRESOLINE) 25 MG.</td>\n",
              "      <td>1.50</td>\n",
              "      <td>2012-08-20</td>\n",
              "      <td>1202588</td>\n",
              "      <td>0</td>\n",
              "      <td>40012</td>\n",
              "      <td>0</td>\n",
              "      <td>0</td>\n",
              "      <td>0.000000</td>\n",
              "      <td>0.000000</td>\n",
              "      <td>0.000000e+00</td>\n",
              "      <td>0.000000</td>\n",
              "    </tr>\n",
              "    <tr>\n",
              "      <th>2</th>\n",
              "      <td>7</td>\n",
              "      <td>40</td>\n",
              "      <td>CISPLATIN (CA) 10 MG.</td>\n",
              "      <td>117.70</td>\n",
              "      <td>2015-11-27</td>\n",
              "      <td>506</td>\n",
              "      <td>478</td>\n",
              "      <td>883</td>\n",
              "      <td>0</td>\n",
              "      <td>0</td>\n",
              "      <td>0.000000</td>\n",
              "      <td>0.000000</td>\n",
              "      <td>0.000000e+00</td>\n",
              "      <td>0.000000</td>\n",
              "    </tr>\n",
              "    <tr>\n",
              "      <th>3</th>\n",
              "      <td>8</td>\n",
              "      <td>40</td>\n",
              "      <td>CISPLATIN (CA) 50 MG.</td>\n",
              "      <td>321.00</td>\n",
              "      <td>2022-04-26</td>\n",
              "      <td>520</td>\n",
              "      <td>936</td>\n",
              "      <td>7977</td>\n",
              "      <td>2053</td>\n",
              "      <td>2128</td>\n",
              "      <td>4022.699972</td>\n",
              "      <td>2629.696958</td>\n",
              "      <td>1.291287e+06</td>\n",
              "      <td>844132.723582</td>\n",
              "    </tr>\n",
              "    <tr>\n",
              "      <th>4</th>\n",
              "      <td>16</td>\n",
              "      <td>10</td>\n",
              "      <td>ACETAR 1000 ML.</td>\n",
              "      <td>38.52</td>\n",
              "      <td>2022-09-07</td>\n",
              "      <td>499</td>\n",
              "      <td>606</td>\n",
              "      <td>3347</td>\n",
              "      <td>5939</td>\n",
              "      <td>10550</td>\n",
              "      <td>11818.699984</td>\n",
              "      <td>1094.883414</td>\n",
              "      <td>4.552563e+05</td>\n",
              "      <td>42174.909123</td>\n",
              "    </tr>\n",
              "    <tr>\n",
              "      <th>...</th>\n",
              "      <td>...</td>\n",
              "      <td>...</td>\n",
              "      <td>...</td>\n",
              "      <td>...</td>\n",
              "      <td>...</td>\n",
              "      <td>...</td>\n",
              "      <td>...</td>\n",
              "      <td>...</td>\n",
              "      <td>...</td>\n",
              "      <td>...</td>\n",
              "      <td>...</td>\n",
              "      <td>...</td>\n",
              "      <td>...</td>\n",
              "      <td>...</td>\n",
              "    </tr>\n",
              "    <tr>\n",
              "      <th>2565</th>\n",
              "      <td>5070000088</td>\n",
              "      <td>70</td>\n",
              "      <td>Sodium Bicarb (30mL) 1meq/mL</td>\n",
              "      <td>30.00</td>\n",
              "      <td>2021-12-07</td>\n",
              "      <td>0</td>\n",
              "      <td>0</td>\n",
              "      <td>2</td>\n",
              "      <td>0</td>\n",
              "      <td>0</td>\n",
              "      <td>0.400000</td>\n",
              "      <td>0.800000</td>\n",
              "      <td>1.200000e+01</td>\n",
              "      <td>24.000000</td>\n",
              "    </tr>\n",
              "    <tr>\n",
              "      <th>2566</th>\n",
              "      <td>5070000090</td>\n",
              "      <td>70</td>\n",
              "      <td>Fluoride (100G) 1%</td>\n",
              "      <td>100.00</td>\n",
              "      <td>2021-12-07</td>\n",
              "      <td>0</td>\n",
              "      <td>0</td>\n",
              "      <td>0</td>\n",
              "      <td>0</td>\n",
              "      <td>256</td>\n",
              "      <td>204.800000</td>\n",
              "      <td>72.407734</td>\n",
              "      <td>2.048000e+04</td>\n",
              "      <td>7240.773439</td>\n",
              "    </tr>\n",
              "    <tr>\n",
              "      <th>2567</th>\n",
              "      <td>5070000091</td>\n",
              "      <td>70</td>\n",
              "      <td>Phenobarb (30mL) 10mg/mL</td>\n",
              "      <td>40.00</td>\n",
              "      <td>2021-12-09</td>\n",
              "      <td>0</td>\n",
              "      <td>0</td>\n",
              "      <td>0</td>\n",
              "      <td>0</td>\n",
              "      <td>0</td>\n",
              "      <td>0.000000</td>\n",
              "      <td>0.000000</td>\n",
              "      <td>0.000000e+00</td>\n",
              "      <td>0.000000</td>\n",
              "    </tr>\n",
              "    <tr>\n",
              "      <th>2568</th>\n",
              "      <td>5070000093</td>\n",
              "      <td>70</td>\n",
              "      <td>Favipiravir [30mL] 100 mg/mL</td>\n",
              "      <td>250.00</td>\n",
              "      <td>2022-12-07</td>\n",
              "      <td>0</td>\n",
              "      <td>0</td>\n",
              "      <td>3</td>\n",
              "      <td>0</td>\n",
              "      <td>1843</td>\n",
              "      <td>1474.999999</td>\n",
              "      <td>520.856065</td>\n",
              "      <td>3.687500e+05</td>\n",
              "      <td>130214.016167</td>\n",
              "    </tr>\n",
              "    <tr>\n",
              "      <th>2569</th>\n",
              "      <td>5070000095</td>\n",
              "      <td>70</td>\n",
              "      <td>PredNisolone (30mL) 1mg/mL</td>\n",
              "      <td>38.20</td>\n",
              "      <td>2022-09-22</td>\n",
              "      <td>0</td>\n",
              "      <td>0</td>\n",
              "      <td>3</td>\n",
              "      <td>0</td>\n",
              "      <td>0</td>\n",
              "      <td>0.600000</td>\n",
              "      <td>1.200000</td>\n",
              "      <td>2.292000e+01</td>\n",
              "      <td>45.840000</td>\n",
              "    </tr>\n",
              "  </tbody>\n",
              "</table>\n",
              "<p>2570 rows × 14 columns</p>\n",
              "</div>\n",
              "      <button class=\"colab-df-convert\" onclick=\"convertToInteractive('df-299eac64-fbe6-49b8-abb9-493c6d02fe0c')\"\n",
              "              title=\"Convert this dataframe to an interactive table.\"\n",
              "              style=\"display:none;\">\n",
              "        \n",
              "  <svg xmlns=\"http://www.w3.org/2000/svg\" height=\"24px\"viewBox=\"0 0 24 24\"\n",
              "       width=\"24px\">\n",
              "    <path d=\"M0 0h24v24H0V0z\" fill=\"none\"/>\n",
              "    <path d=\"M18.56 5.44l.94 2.06.94-2.06 2.06-.94-2.06-.94-.94-2.06-.94 2.06-2.06.94zm-11 1L8.5 8.5l.94-2.06 2.06-.94-2.06-.94L8.5 2.5l-.94 2.06-2.06.94zm10 10l.94 2.06.94-2.06 2.06-.94-2.06-.94-.94-2.06-.94 2.06-2.06.94z\"/><path d=\"M17.41 7.96l-1.37-1.37c-.4-.4-.92-.59-1.43-.59-.52 0-1.04.2-1.43.59L10.3 9.45l-7.72 7.72c-.78.78-.78 2.05 0 2.83L4 21.41c.39.39.9.59 1.41.59.51 0 1.02-.2 1.41-.59l7.78-7.78 2.81-2.81c.8-.78.8-2.07 0-2.86zM5.41 20L4 18.59l7.72-7.72 1.47 1.35L5.41 20z\"/>\n",
              "  </svg>\n",
              "      </button>\n",
              "      \n",
              "  <style>\n",
              "    .colab-df-container {\n",
              "      display:flex;\n",
              "      flex-wrap:wrap;\n",
              "      gap: 12px;\n",
              "    }\n",
              "\n",
              "    .colab-df-convert {\n",
              "      background-color: #E8F0FE;\n",
              "      border: none;\n",
              "      border-radius: 50%;\n",
              "      cursor: pointer;\n",
              "      display: none;\n",
              "      fill: #1967D2;\n",
              "      height: 32px;\n",
              "      padding: 0 0 0 0;\n",
              "      width: 32px;\n",
              "    }\n",
              "\n",
              "    .colab-df-convert:hover {\n",
              "      background-color: #E2EBFA;\n",
              "      box-shadow: 0px 1px 2px rgba(60, 64, 67, 0.3), 0px 1px 3px 1px rgba(60, 64, 67, 0.15);\n",
              "      fill: #174EA6;\n",
              "    }\n",
              "\n",
              "    [theme=dark] .colab-df-convert {\n",
              "      background-color: #3B4455;\n",
              "      fill: #D2E3FC;\n",
              "    }\n",
              "\n",
              "    [theme=dark] .colab-df-convert:hover {\n",
              "      background-color: #434B5C;\n",
              "      box-shadow: 0px 1px 3px 1px rgba(0, 0, 0, 0.15);\n",
              "      filter: drop-shadow(0px 1px 2px rgba(0, 0, 0, 0.3));\n",
              "      fill: #FFFFFF;\n",
              "    }\n",
              "  </style>\n",
              "\n",
              "      <script>\n",
              "        const buttonEl =\n",
              "          document.querySelector('#df-299eac64-fbe6-49b8-abb9-493c6d02fe0c button.colab-df-convert');\n",
              "        buttonEl.style.display =\n",
              "          google.colab.kernel.accessAllowed ? 'block' : 'none';\n",
              "\n",
              "        async function convertToInteractive(key) {\n",
              "          const element = document.querySelector('#df-299eac64-fbe6-49b8-abb9-493c6d02fe0c');\n",
              "          const dataTable =\n",
              "            await google.colab.kernel.invokeFunction('convertToInteractive',\n",
              "                                                     [key], {});\n",
              "          if (!dataTable) return;\n",
              "\n",
              "          const docLinkHtml = 'Like what you see? Visit the ' +\n",
              "            '<a target=\"_blank\" href=https://colab.research.google.com/notebooks/data_table.ipynb>data table notebook</a>'\n",
              "            + ' to learn more about interactive tables.';\n",
              "          element.innerHTML = '';\n",
              "          dataTable['output_type'] = 'display_data';\n",
              "          await google.colab.output.renderOutput(dataTable, element);\n",
              "          const docLink = document.createElement('div');\n",
              "          docLink.innerHTML = docLinkHtml;\n",
              "          element.appendChild(docLink);\n",
              "        }\n",
              "      </script>\n",
              "    </div>\n",
              "  </div>\n",
              "  "
            ]
          },
          "metadata": {},
          "execution_count": 177
        }
      ]
    },
    {
      "cell_type": "code",
      "source": [
        "#save report file to excel\n",
        "ndf.to_excel('/content/drive/MyDrive/medication_prediction_project/results/ResultMedicinePrediction2566.xlsx', index=False)"
      ],
      "metadata": {
        "id": "j-0XHkUxwUgU"
      },
      "execution_count": null,
      "outputs": []
    },
    {
      "cell_type": "code",
      "source": [],
      "metadata": {
        "id": "NCyuay5TxSyn"
      },
      "execution_count": null,
      "outputs": []
    }
  ]
}